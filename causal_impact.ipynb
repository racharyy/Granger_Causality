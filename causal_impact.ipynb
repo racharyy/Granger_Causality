{
 "cells": [
  {
   "cell_type": "code",
   "execution_count": 2,
   "metadata": {},
   "outputs": [],
   "source": [
    "%matplotlib inline\n",
    "\n",
    "\n",
    "import sys\n",
    "import os\n",
    "\n",
    "\n",
    "sys.path.append(os.path.abspath('../'))\n",
    "\n",
    "\n",
    "import numpy as np\n",
    "import pandas as pd\n",
    "from IPython.core.pylabtools import figsize\n",
    "figsize(14, 6)\n",
    "import statsmodels as sm\n",
    "from statsmodels.tsa.statespace.structural import UnobservedComponents\n",
    "from statsmodels.tsa.arima_process import ArmaProcess\n",
    "from matplotlib import pyplot as plt\n",
    "from causalimpact import CausalImpact\n",
    "import warnings\n",
    "\n",
    "\n",
    "warnings.filterwarnings('ignore')"
   ]
  },
  {
   "cell_type": "code",
   "execution_count": null,
   "metadata": {},
   "outputs": [],
   "source": []
  }
 ],
 "metadata": {
  "kernelspec": {
   "display_name": "Python 3",
   "language": "python",
   "name": "python3"
  },
  "language_info": {
   "codemirror_mode": {
    "name": "ipython",
    "version": 3
   },
   "file_extension": ".py",
   "mimetype": "text/x-python",
   "name": "python",
   "nbconvert_exporter": "python",
   "pygments_lexer": "ipython3",
   "version": "3.6.8"
  }
 },
 "nbformat": 4,
 "nbformat_minor": 2
}
