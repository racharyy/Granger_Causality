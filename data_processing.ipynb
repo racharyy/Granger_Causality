{
 "cells": [
  {
   "cell_type": "code",
   "execution_count": 27,
   "metadata": {},
   "outputs": [],
   "source": [
    "from io import open\n",
    "import pickle\n",
    "import sys\n",
    "sys.path.insert(0,'./zipped_files_from_www')\n",
    "sys.path.insert(0,'./Boyu')\n",
    "sys.path.insert(0,'./searchCatDistData')\n",
    "from posterior import *\n",
    "from sklearn.metrics import average_precision_score,precision_recall_fscore_support,confusion_matrix, roc_curve, auc, classification_report, average_precision_score, accuracy_score\n",
    "from sklearn.linear_model import LogisticRegression\n",
    "from psi_npsi_user_mapping import *\n",
    "from helper import *\n",
    "import torch\n",
    "#from random_slice import *\n",
    "cats = [\"Business & Industrial\",\"Home & Garden\",\"Travel\",\"Arts & Entertainment\",\"Sports\",\"Food & Drink\",\"Pets & Animals\",\"Health\",\"Shopping\",\"Finance\",\"Adult\",\"Beauty & Fitness\",\"News\",\"Books & Literature\",\"Online Communities\",\"Law & Government\",\"Sensitive Subjects\",\"Science\",\"Hobbies & Leisure\",\"Games\",\"Jobs & Education\",\"Autos & Vehicles\",\"Computers & Electronics\",\"People & Society\",\"Reference\",\"Internet & Telecom\",\"Real Estate\"]"
   ]
  },
  {
   "cell_type": "code",
   "execution_count": 6,
   "metadata": {},
   "outputs": [],
   "source": [
    "ls_compound, nls_compound = load_pickle(\"Boyu/compound_vectors_self_esteem.pkl\")\n",
    "psi_compound, npsi_compound = load_pickle('Boyu/compound_vectors_psi.pkl')\n",
    "#ls_users = [i[0] for i in ls_cat]\n",
    "#len(ls_cat),len(ls_lamb),len(nls_cat),len(nls_lamb)"
   ]
  },
  {
   "cell_type": "code",
   "execution_count": 9,
   "metadata": {},
   "outputs": [],
   "source": [
    "psi_users = [i[0] for i in psi_compound]\n",
    "npsi_users = [i[0] for i in npsi_compound]\n",
    "ls_users = [i[0] for i in ls_compound]"
   ]
  },
  {
   "cell_type": "code",
   "execution_count": 3,
   "metadata": {},
   "outputs": [],
   "source": [
    "ls, nls = load_pickle('Boyu/best_representation.pkl')"
   ]
  },
  {
   "cell_type": "code",
   "execution_count": 30,
   "metadata": {},
   "outputs": [],
   "source": [
    "def load_data_MLP_with_userid(path, scale):\n",
    "\n",
    "    with open(path, 'rb') as f:\n",
    "        (low_list, not_low_list) = pickle.load(f)\n",
    "    # [number of users, number of features]\n",
    "    ls = np.stack([user[1] * scale for user in low_list])\n",
    "    nls = np.stack([user[1] * scale for user in not_low_list])\n",
    "\n",
    "    ls_users = np.stack([[user[0]] for user in low_list])\n",
    "    nls_users = np.stack([[user[0]] for user in not_low_list])\n",
    "    print('low shape: [{}], not low shape: [{}]'.format(ls.shape, nls.shape))\n",
    "    assert ls.shape[1] == nls.shape[1]\n",
    "    in_size = ls.shape[1]\n",
    "    ls_num = ls.shape[0]\n",
    "    nls_num = nls.shape[0]\n",
    "\n",
    "    # add label [number of users, number of features]\n",
    "    ls_label = np.stack([np.asarray([1, 0]) for user in ls])\n",
    "    ls = np.concatenate((ls_users,ls, ls_label), axis = 1)\n",
    "    nls_label = np.stack([np.asarray([0, 1]) for user in nls])\n",
    "    nls = np.concatenate((nls_users,nls, nls_label), axis = 1)\n",
    "    # print('ls example: [{}], nls example: [{}]'.format(ls[0], nls[0]))\n",
    "\n",
    "    # [number of users, number of features + number of labels]\n",
    "    data = np.concatenate((ls, nls), axis = 0)\n",
    "    np.random.shuffle(data)\n",
    "    #data = torch.from_numpy(data).float()\n",
    "    return data, in_size, ls_num, nls_num\n"
   ]
  },
  {
   "cell_type": "code",
   "execution_count": 33,
   "metadata": {},
   "outputs": [
    {
     "name": "stdout",
     "output_type": "stream",
     "text": [
      "low shape: [(49, 27)], not low shape: [(43, 27)]\n"
     ]
    }
   ],
   "source": [
    "data, in_size, ls_num, nls_num= load_data_MLP_with_userid(\n",
    "\t\tpath = 'Boyu/lambda_vectors_with_user_ID.pkl', \n",
    "\t\tscale = 10**5)\n",
    "\n"
   ]
  },
  {
   "cell_type": "code",
   "execution_count": 34,
   "metadata": {},
   "outputs": [
    {
     "data": {
      "text/plain": [
       "array([['70_361042a326fdc0', '0.3427522120783459', '0.1328910684930576',\n",
       "        ..., '0.03067144607031011', '1', '0'],\n",
       "       ['22_35fd5d66c7e2f0', '0.009197232188624047',\n",
       "        '0.004741988185715794', ..., '0.0', '1', '0'],\n",
       "       ['65_36102f386840b2', '0.24810390543574717',\n",
       "        '0.08498117681192202', ..., '0.05166916319905795', '1', '0'],\n",
       "       ...,\n",
       "       ['75_3611064f3a7244', '0.9011333253455095', '0.30932692417884644',\n",
       "        ..., '0.15271480077022642', '1', '0'],\n",
       "       ['1_35f88eac597396', '0.18957064952461003',\n",
       "        '0.054462875724297595', ..., '0.018580721398878956', '0', '1'],\n",
       "       ['16_35fb0466ef53b6', '0.0', '0.0', ..., '0.0', '1', '0']],\n",
       "      dtype='<U32')"
      ]
     },
     "execution_count": 34,
     "metadata": {},
     "output_type": "execute_result"
    }
   ],
   "source": [
    "data"
   ]
  },
  {
   "cell_type": "code",
   "execution_count": null,
   "metadata": {},
   "outputs": [],
   "source": []
  }
 ],
 "metadata": {
  "kernelspec": {
   "display_name": "Python 3",
   "language": "python",
   "name": "python3"
  },
  "language_info": {
   "codemirror_mode": {
    "name": "ipython",
    "version": 3
   },
   "file_extension": ".py",
   "mimetype": "text/x-python",
   "name": "python",
   "nbconvert_exporter": "python",
   "pygments_lexer": "ipython3",
   "version": "3.6.8"
  }
 },
 "nbformat": 4,
 "nbformat_minor": 2
}
