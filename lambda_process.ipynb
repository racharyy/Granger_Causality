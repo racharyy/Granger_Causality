{
 "cells": [
  {
   "cell_type": "code",
   "execution_count": 1,
   "metadata": {},
   "outputs": [],
   "source": [
    "from io import open\n",
    "import pickle\n",
    "import sys\n",
    "sys.path.insert(0,'./zipped_files_from_www')\n",
    "sys.path.insert(0,'./Boyu')\n",
    "from posterior import *\n",
    "from sklearn.metrics import average_precision_score,precision_recall_fscore_support,confusion_matrix, roc_curve, auc, classification_report, average_precision_score, accuracy_score\n",
    "#from random_slice import *\n",
    "cats = [\"Business & Industrial\",\"Home & Garden\",\"Travel\",\"Arts & Entertainment\",\"Sports\",\"Food & Drink\",\"Pets & Animals\",\"Health\",\"Shopping\",\"Finance\",\"Adult\",\"Beauty & Fitness\",\"News\",\"Books & Literature\",\"Online Communities\",\"Law & Government\",\"Sensitive Subjects\",\"Science\",\"Hobbies & Leisure\",\"Games\",\"Jobs & Education\",\"Autos & Vehicles\",\"Computers & Electronics\",\"People & Society\",\"Reference\",\"Internet & Telecom\",\"Real Estate\"]"
   ]
  },
  {
   "cell_type": "code",
   "execution_count": 2,
   "metadata": {},
   "outputs": [],
   "source": [
    "\n",
    "def random_split(low_list,notlow_list,split_ratio=2.0/3):\n",
    "\n",
    "    num_low, num_notlow = len(low_list), len(notlow_list)\n",
    "    low_train_indices, notlow_train_indices = np.random.choice(num_low,size = int(num_low*split_ratio),replace=False), np.random.choice(num_notlow,size = int(num_notlow*split_ratio),replace=False)\n",
    "    train_low, test_low, train_notlow, test_notlow = [],[],[],[]\n",
    "    for i in range(num_low):\n",
    "        if i in low_train_indices:\n",
    "            train_low.append(low_list[i][1])\n",
    "        else:\n",
    "            test_low.append(low_list[i][1])\n",
    "            \n",
    "    for i in range(num_notlow):\n",
    "        if i in notlow_train_indices:\n",
    "            train_notlow.append(notlow_list[i][1])\n",
    "        else:\n",
    "            test_notlow.append(notlow_list[i][1])\n",
    "            \n",
    "    return train_low, test_low, train_notlow, test_notlow\n",
    "            \n",
    "        \n",
    "    "
   ]
  },
  {
   "cell_type": "code",
   "execution_count": 52,
   "metadata": {},
   "outputs": [
    {
     "data": {
      "image/png": "[encoded data removed]",
      "text/plain": [
       "<Figure size 432x288 with 1 Axes>"
      ]
     },
     "metadata": {
      "needs_background": "light"
     },
     "output_type": "display_data"
    }
   ],
   "source": [
    "with open('Boyu/lambda_vectors_with_user_ID.pkl', 'rb') as f:\n",
    "\t(low_list, notlow_list) = pickle.load(f)\n",
    "\n",
    "low_mean = np.mean(np.array([elem[1] for elem in low_list]),axis=0)\n",
    "notlow_mean = np.mean(np.array([elem[1] for elem in notlow_list]),axis=0)\n",
    "# print(low_mean)\n",
    "# print(notlow_mean)\n",
    "labels = [\"c\"+str(i+1) for i in range(27)]\n",
    "xaxis = np.arange(27)\n",
    "width = 0.3 \n",
    "\n",
    "fig, ax = plt.subplots()\n",
    "rects1 = ax.bar(xaxis - width/2, low_mean, width, label='Low')\n",
    "rects2 = ax.bar(xaxis + width/2, notlow_mean, width, label='Not Low')\n",
    "\n",
    "# Add some text for labels, title and custom x-axis tick labels, etc.\n",
    "ax.set_ylabel('ISI params')\n",
    "ax.set_title('ISI for two groups')\n",
    "ax.set_xticks(xaxis)\n",
    "ax.set_xticklabels(labels)\n",
    "ax.legend()\n",
    "\n",
    "\n",
    "fig.tight_layout()\n",
    "\n",
    "#plt.show()"
   ]
  },
  {
   "cell_type": "code",
   "execution_count": 53,
   "metadata": {},
   "outputs": [
    {
     "data": {
      "image/png": "[encoded data removed]",
      "text/plain": [
       "<Figure size 432x288 with 1 Axes>"
      ]
     },
     "metadata": {
      "needs_background": "light"
     },
     "output_type": "display_data"
    }
   ],
   "source": [
    "with open('Boyu/lambda_vectors_with_user_ID_normed.pkl', 'rb') as f:\n",
    "\t(low_list_norm, notlow_list_norm) = pickle.load(f)\n",
    "\n",
    "low_mean_norm = np.mean(np.array([elem[1] for elem in low_list_norm]),axis=0)\n",
    "notlow_mean_norm = np.mean(np.array([elem[1] for elem in notlow_list_norm]),axis=0)\n",
    "# print(low_mean)\n",
    "# print(notlow_mean)\n",
    "labels = [\"c\"+str(i+1) for i in range(27)]\n",
    "xaxis = np.arange(27)\n",
    "width = 0.3 \n",
    "\n",
    "fig, ax = plt.subplots()\n",
    "rects1 = ax.bar(xaxis - width/2, low_mean_norm, width, label='Low')\n",
    "rects2 = ax.bar(xaxis + width/2, notlow_mean_norm, width, label='Not Low')\n",
    "\n",
    "# Add some text for labels, title and custom x-axis tick labels, etc.\n",
    "ax.set_ylabel('ISI params')\n",
    "ax.set_title('ISI for two groups')\n",
    "ax.set_xticks(xaxis)\n",
    "ax.set_xticklabels(labels)\n",
    "ax.legend()\n",
    "\n",
    "\n",
    "fig.tight_layout()\n",
    "\n",
    "#plt.show()"
   ]
  },
  {
   "cell_type": "code",
   "execution_count": null,
   "metadata": {},
   "outputs": [],
   "source": []
  },
  {
   "cell_type": "code",
   "execution_count": 4,
   "metadata": {},
   "outputs": [],
   "source": [
    "train_low, test_low, train_notlow, test_notlow = random_split(low_list,notlow_list)\n"
   ]
  },
  {
   "cell_type": "code",
   "execution_count": 16,
   "metadata": {},
   "outputs": [
    {
     "name": "stdout",
     "output_type": "stream",
     "text": [
      "[0.12499855 0.00529854 0.14247867 0.10974812 0.01122521 0.03347461\n",
      " 0.00303998 0.03331677 0.04990281 0.0160487  0.0012757  0.03812325\n",
      " 0.03232918 0.00482688 0.01684895 0.01638875 0.00814525 0.02208593\n",
      " 0.02605477 0.00122926 0.06199664 0.0308792  0.0721537  0.02206396\n",
      " 0.05226313 0.05523237 0.00857113]\n"
     ]
    }
   ],
   "source": [
    "train_lambda, train_label = np.array(train_low+train_notlow), np.array([1 for i in train_low]+[0 for j in train_notlow])\n",
    "test_lambda, test_label = np.array(test_low+test_notlow), np.array([1 for i in test_low]+[0 for j in test_notlow])\n",
    "print(train_lambda[0])"
   ]
  },
  {
   "cell_type": "code",
   "execution_count": 9,
   "metadata": {},
   "outputs": [
    {
     "name": "stdout",
     "output_type": "stream",
     "text": [
      "(27, 27)\n",
      "True\n",
      "==================\n",
      "True\n",
      "(27,)\n",
      "(27, 27)\n",
      "Shape: similarity matrix (27, 27)\n",
      "Shape: covariance matrix (27, 27)\n",
      "True\n"
     ]
    }
   ],
   "source": [
    "def is_pos_def(x):\n",
    "    return np.all(np.linalg.eigvals(x) > 0)\n",
    "\n",
    "\n",
    "simMatrix = np.load('zipped_files_from_www/sim_mat.npy')\n",
    "\n",
    "print(simMatrix.shape)\n",
    "print(is_pos_def(simMatrix))\n",
    "print('==================')\n",
    "simMatrix2 = np.loadtxt(\"zipped_files_from_www/similarity_matrix.csv\", dtype='float32', delimiter=',')\n",
    "print(is_pos_def(simMatrix2))\n",
    "cov_W = simMatrix2\n",
    "cov_W_inv = inv(cov_W)\n",
    "\n",
    "# cov_W = (1- simMatrix) + np.identity(len(cats))\n",
    "mu_W = np.zeros(len(cats))\n",
    "print(mu_W.shape)\n",
    "print(cov_W.shape)\n",
    "print('Shape: similarity matrix',simMatrix.shape)\n",
    "print('Shape: covariance matrix',cov_W.shape)\n",
    "print(is_pos_def(cov_W))\n",
    "#print(cov_W)\n",
    "cov_W = np.eye(27)"
   ]
  },
  {
   "cell_type": "code",
   "execution_count": 10,
   "metadata": {},
   "outputs": [
    {
     "data": {
      "image/png": "[encoded data removed]",
      "text/plain": [
       "<Figure size 432x288 with 1 Axes>"
      ]
     },
     "metadata": {
      "needs_background": "light"
     },
     "output_type": "display_data"
    }
   ],
   "source": [
    "bmodel = Bayes_model(train_lambda,train_label ,cov_W,mu_W)\n",
    "samples_w, samples_sigma = bmodel.metropolis_hastings()"
   ]
  },
  {
   "cell_type": "code",
   "execution_count": 13,
   "metadata": {},
   "outputs": [
    {
     "name": "stdout",
     "output_type": "stream",
     "text": [
      "[0.50834538 0.54790756 0.51917919 0.54500384 0.41246749 0.54911395\n",
      " 0.42210161 0.4555111  0.57284917 0.44737843 0.58908015 0.55082005\n",
      " 0.50023339 0.52891136 0.51071319 0.59240866 0.53742183 0.53733006\n",
      " 0.5317019  0.51588632 0.58351573 0.58675466 0.45316237 0.55876676\n",
      " 0.51401779 0.50464483 0.52965341 0.55154158 0.53152318 0.53754608\n",
      " 0.53913075]\n",
      "===================\n",
      "predicted: 0 \t\t true: 1\n",
      "predicted: 0 \t\t true: 1\n",
      "predicted: 0 \t\t true: 1\n",
      "predicted: 0 \t\t true: 1\n",
      "predicted: 1 \t\t true: 1\n",
      "predicted: 0 \t\t true: 1\n",
      "predicted: 1 \t\t true: 1\n",
      "predicted: 1 \t\t true: 1\n",
      "predicted: 0 \t\t true: 1\n",
      "predicted: 1 \t\t true: 1\n",
      "predicted: 0 \t\t true: 1\n",
      "predicted: 0 \t\t true: 1\n",
      "predicted: 0 \t\t true: 1\n",
      "predicted: 0 \t\t true: 1\n",
      "predicted: 0 \t\t true: 1\n",
      "predicted: 0 \t\t true: 1\n",
      "predicted: 0 \t\t true: 1\n",
      "predicted: 0 \t\t true: 1\n",
      "predicted: 0 \t\t true: 0\n",
      "predicted: 0 \t\t true: 0\n",
      "predicted: 0 \t\t true: 0\n",
      "predicted: 0 \t\t true: 0\n",
      "predicted: 1 \t\t true: 0\n",
      "predicted: 0 \t\t true: 0\n",
      "predicted: 0 \t\t true: 0\n",
      "predicted: 0 \t\t true: 0\n",
      "predicted: 0 \t\t true: 0\n",
      "predicted: 0 \t\t true: 0\n",
      "predicted: 0 \t\t true: 0\n",
      "predicted: 0 \t\t true: 0\n",
      "predicted: 0 \t\t true: 0\n",
      "              precision    recall  f1-score   support\n",
      "\n",
      "           0       0.46      0.92      0.62        13\n",
      "           1       0.80      0.22      0.35        18\n",
      "\n",
      "   micro avg       0.52      0.52      0.52        31\n",
      "   macro avg       0.63      0.57      0.48        31\n",
      "weighted avg       0.66      0.52      0.46        31\n",
      "\n",
      "[[12  1]\n",
      " [14  4]]\n",
      "{'precision': array([0.46, 0.8 ]), 'recall': array([0.92, 0.22]), 'f1-score': array([0.62, 0.35]), 'support': array([13, 18])}\n"
     ]
    }
   ],
   "source": [
    "precisions = []\n",
    "recalls = []\n",
    "f1s = []\n",
    "\n",
    "total_miss = []\n",
    "class1_precisions = []\n",
    "class0_precisions = []\n",
    "\n",
    "class1_f1s = []\n",
    "class0_f1s = []\n",
    "\n",
    "class1_recalls = []\n",
    "class0_recalls = []\n",
    "\n",
    "class1_miss = []\n",
    "class0_miss = []\n",
    "\n",
    "#print(sum(test_lambda,axis=1))\n",
    "\n",
    "w = np.mean(samples_w, axis=0)\n",
    "sig = np.mean(samples_sigma)\n",
    "p = sigmoid(np.dot(test_lambda, w) + sig*np.random.normal())\n",
    "# y_hat = [np.random.binomial(1, i) for i in p]\n",
    "print(p)\n",
    "y_hat = []\n",
    "for i in p:\n",
    "    if i <= 0.5:\n",
    "        y_hat.append(1)\n",
    "    else:\n",
    "        y_hat.append(0)\n",
    "print('===================')\n",
    "for i in range(len(y_hat)):\n",
    "    print('predicted:', y_hat[i], '\\t\\t true:',test_label[i])\n",
    "\n",
    "# print y_hat\n",
    "cr = classification_report(test_label, y_hat)\n",
    "cm = confusion_matrix(test_label, y_hat)\n",
    "print(cr)\n",
    "print(cm)\n",
    "num_class0_miss = cm[0][1] \n",
    "num_class1_miss = cm[1][0]\n",
    "l= cr.split('avg / total')[-1].strip().split()\n",
    "#print(l)\n",
    "#avg_prec, avg_recal,avg_f1,_ = cr.split('avg / total')[-1].strip().split()\n",
    "\n",
    "clf_rep = precision_recall_fscore_support(test_label, y_hat)\n",
    "out_dict = {\n",
    "    \"precision\" :clf_rep[0].round(2)\n",
    "    ,\"recall\" : clf_rep[1].round(2)\n",
    "    ,\"f1-score\" : clf_rep[2].round(2)\n",
    "    ,\"support\" : clf_rep[3]\n",
    "}\n",
    "print(out_dict)\n",
    "class0_recalls.append(out_dict['recall'][0])\n",
    "class0_f1s.append(out_dict['f1-score'][0])\n",
    "class0_precisions.append(out_dict['precision'][0])\n",
    "class0_miss.append(num_class0_miss)\n",
    "\n",
    "class1_recalls.append(out_dict['recall'][1])\n",
    "class1_f1s.append(out_dict['f1-score'][1])\n",
    "class1_precisions.append(out_dict['precision'][1])\n",
    "class1_miss.append(num_class1_miss)\n",
    "total_miss.append(num_class0_miss+num_class1_miss)\n",
    "\n",
    "# precisions.append(float(avg_prec))\n",
    "# recalls.append(float(avg_recal))\n",
    "# f1s.append(float(avg_f1))"
   ]
  },
  {
   "cell_type": "code",
   "execution_count": null,
   "metadata": {},
   "outputs": [],
   "source": []
  },
  {
   "cell_type": "code",
   "execution_count": null,
   "metadata": {},
   "outputs": [],
   "source": []
  }
 ],
 "metadata": {
  "kernelspec": {
   "display_name": "Python 3",
   "language": "python",
   "name": "python3"
  },
  "language_info": {
   "codemirror_mode": {
    "name": "ipython",
    "version": 3
   },
   "file_extension": ".py",
   "mimetype": "text/x-python",
   "name": "python",
   "nbconvert_exporter": "python",
   "pygments_lexer": "ipython3",
   "version": "3.6.8"
  }
 },
 "nbformat": 4,
 "nbformat_minor": 2
}
