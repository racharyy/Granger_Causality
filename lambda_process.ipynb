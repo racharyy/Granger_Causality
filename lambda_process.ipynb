{
 "cells": [
  {
   "cell_type": "code",
   "execution_count": 1,
   "metadata": {},
   "outputs": [],
   "source": [
    "from io import open\n",
    "import pickle\n",
    "import sys\n",
    "sys.path.insert(0,'./zipped_files_from_www')\n",
    "sys.path.insert(0,'./Boyu')\n",
    "from posterior import *\n",
    "from sklearn.metrics import average_precision_score,precision_recall_fscore_support,confusion_matrix, roc_curve, auc, classification_report, average_precision_score, accuracy_score\n",
    "from sklearn.linear_model import LogisticRegression\n",
    "from helper import *\n",
    "#from random_slice import *\n",
    "cats = [\"Business & Industrial\",\"Home & Garden\",\"Travel\",\"Arts & Entertainment\",\"Sports\",\"Food & Drink\",\"Pets & Animals\",\"Health\",\"Shopping\",\"Finance\",\"Adult\",\"Beauty & Fitness\",\"News\",\"Books & Literature\",\"Online Communities\",\"Law & Government\",\"Sensitive Subjects\",\"Science\",\"Hobbies & Leisure\",\"Games\",\"Jobs & Education\",\"Autos & Vehicles\",\"Computers & Electronics\",\"People & Society\",\"Reference\",\"Internet & Telecom\",\"Real Estate\"]"
   ]
  },
  {
   "cell_type": "code",
   "execution_count": 2,
   "metadata": {},
   "outputs": [
    {
     "data": {
      "image/png": "[encoded data removed]",
      "text/plain": [
       "<Figure size 432x288 with 1 Axes>"
      ]
     },
     "metadata": {
      "needs_background": "light"
     },
     "output_type": "display_data"
    }
   ],
   "source": [
    "ls_compound, nls_compound = load_pickle(\"Boyu/compound_vectors_self_esteem.pkl\")\n",
    "psi_compound, npsi_compound = load_pickle('Boyu/compound_vectors_psi.pkl')\n",
    "ls_lambda = [(elem[0],elem[1][27:]) for elem in ls_compound]\n",
    "nls_lambda = [(elem[0],elem[1][27:]) for elem in nls_compound]\n",
    "#print(len(ls_compound[0][1]))\n",
    "plot_features(ls_lambda,nls_lambda)\n",
    "#plot_features(low_list_norm, notlow_list_norm)\n",
    "#plt.show()"
   ]
  },
  {
   "cell_type": "code",
   "execution_count": 3,
   "metadata": {},
   "outputs": [
    {
     "ename": "NameError",
     "evalue": "name 'low_list' is not defined",
     "output_type": "error",
     "traceback": [
      "\u001b[0;31m---------------------------------------------------------------------------\u001b[0m",
      "\u001b[0;31mNameError\u001b[0m                                 Traceback (most recent call last)",
      "\u001b[0;32m<ipython-input-3-2c19ea3c67ba>\u001b[0m in \u001b[0;36m<module>\u001b[0;34m\u001b[0m\n\u001b[0;32m----> 1\u001b[0;31m \u001b[0mtrain_lambda\u001b[0m\u001b[0;34m,\u001b[0m \u001b[0mtrain_label\u001b[0m\u001b[0;34m,\u001b[0m \u001b[0mtest_lambda\u001b[0m\u001b[0;34m,\u001b[0m \u001b[0mtest_label\u001b[0m \u001b[0;34m=\u001b[0m \u001b[0mrandom_split\u001b[0m\u001b[0;34m(\u001b[0m\u001b[0mlow_list\u001b[0m\u001b[0;34m,\u001b[0m\u001b[0mnotlow_list\u001b[0m\u001b[0;34m)\u001b[0m\u001b[0;34m\u001b[0m\u001b[0;34m\u001b[0m\u001b[0m\n\u001b[0m",
      "\u001b[0;31mNameError\u001b[0m: name 'low_list' is not defined"
     ]
    }
   ],
   "source": [
    "train_lambda, train_label, test_lambda, test_label = random_split(low_list,notlow_list)"
   ]
  },
  {
   "cell_type": "code",
   "execution_count": null,
   "metadata": {},
   "outputs": [],
   "source": [
    "def is_pos_def(x):\n",
    "    return np.all(np.linalg.eigvals(x) > 0)\n",
    "\n",
    "\n",
    "simMatrix = np.load('zipped_files_from_www/sim_mat.npy')\n",
    "\n",
    "print(simMatrix.shape)\n",
    "print(is_pos_def(simMatrix))\n",
    "print('==================')\n",
    "simMatrix2 = np.loadtxt(\"zipped_files_from_www/similarity_matrix.csv\", dtype='float32', delimiter=',')\n",
    "print(is_pos_def(simMatrix2))\n",
    "cov_W = simMatrix2\n",
    "cov_W_inv = inv(cov_W)\n",
    "\n",
    "# cov_W = (1- simMatrix) + np.identity(len(cats))\n",
    "mu_W = np.zeros(len(cats))\n",
    "print(mu_W.shape)\n",
    "print(cov_W.shape)\n",
    "print('Shape: similarity matrix',simMatrix.shape)\n",
    "print('Shape: covariance matrix',cov_W.shape)\n",
    "print(is_pos_def(cov_W))\n",
    "#print(cov_W)\n",
    "# cov_W = np.eye(27)"
   ]
  },
  {
   "cell_type": "code",
   "execution_count": null,
   "metadata": {},
   "outputs": [],
   "source": [
    "bmodel = Bayes_model(train_lambda,train_label ,cov_W,mu_W)\n",
    "samples_w, samples_sigma = bmodel.metropolis_hastings()"
   ]
  },
  {
   "cell_type": "code",
   "execution_count": null,
   "metadata": {},
   "outputs": [],
   "source": [
    "def print_trace():\n",
    "    precisions = []\n",
    "    recalls = []\n",
    "    f1s = []\n",
    "\n",
    "    total_miss = []\n",
    "    class1_precisions = []\n",
    "    class0_precisions = []\n",
    "\n",
    "    class1_f1s = []\n",
    "    class0_f1s = []\n",
    "\n",
    "    class1_recalls = []\n",
    "    class0_recalls = []\n",
    "\n",
    "    class1_miss = []\n",
    "    class0_miss = []\n",
    "\n",
    "    #print(sum(test_lambda,axis=1))\n",
    "\n",
    "    w = np.mean(samples_w, axis=0)\n",
    "    sig = np.mean(samples_sigma)\n",
    "    p = sigmoid(np.dot(test_lambda, w) + np.random.normal())\n",
    "    # y_hat = [np.random.binomial(1, i) for i in p]\n",
    "    print(p)\n",
    "    y_hat = []\n",
    "    for i in p:\n",
    "        if i <= 0.5:\n",
    "            y_hat.append(1)\n",
    "        else:\n",
    "            y_hat.append(0)\n",
    "    print('===================')\n",
    "    for i in range(len(y_hat)):\n",
    "        print('predicted:', y_hat[i], '\\t\\t true:',test_label[i])\n",
    "\n",
    "    # print y_hat\n",
    "    cr = classification_report(test_label, y_hat)\n",
    "    cm = confusion_matrix(test_label, y_hat)\n",
    "    print(cr)\n",
    "    print(cm)\n",
    "    num_class0_miss = cm[0][1] \n",
    "    num_class1_miss = cm[1][0]\n",
    "    l= cr.split('avg / total')[-1].strip().split()\n",
    "    #print(l)\n",
    "    #avg_prec, avg_recal,avg_f1,_ = cr.split('avg / total')[-1].strip().split()\n",
    "\n",
    "    clf_rep = precision_recall_fscore_support(test_label, y_hat)\n",
    "    out_dict = {\n",
    "        \"precision\" :clf_rep[0].round(2)\n",
    "        ,\"recall\" : clf_rep[1].round(2)\n",
    "        ,\"f1-score\" : clf_rep[2].round(2)\n",
    "        ,\"support\" : clf_rep[3]\n",
    "    }\n",
    "    print(out_dict)\n",
    "    class0_recalls.append(out_dict['recall'][0])\n",
    "    class0_f1s.append(out_dict['f1-score'][0])\n",
    "    class0_precisions.append(out_dict['precision'][0])\n",
    "    class0_miss.append(num_class0_miss)\n",
    "\n",
    "    class1_recalls.append(out_dict['recall'][1])\n",
    "    class1_f1s.append(out_dict['f1-score'][1])\n",
    "    class1_precisions.append(out_dict['precision'][1])\n",
    "    class1_miss.append(num_class1_miss)\n",
    "    total_miss.append(num_class0_miss+num_class1_miss)\n",
    "\n",
    "    # precisions.append(float(avg_prec))\n",
    "    # recalls.append(float(avg_recal))\n",
    "    # f1s.append(float(avg_f1))"
   ]
  },
  {
   "cell_type": "code",
   "execution_count": null,
   "metadata": {},
   "outputs": [],
   "source": [
    "clf = LogisticRegression(random_state=0, solver='lbfgs').fit(train_lambda,train_label)"
   ]
  },
  {
   "cell_type": "code",
   "execution_count": null,
   "metadata": {},
   "outputs": [],
   "source": [
    "clf.score(train_lambda,train_label)"
   ]
  },
  {
   "cell_type": "code",
   "execution_count": null,
   "metadata": {},
   "outputs": [],
   "source": [
    "y_hat=clf.predict(test_lambda)"
   ]
  },
  {
   "cell_type": "code",
   "execution_count": null,
   "metadata": {},
   "outputs": [],
   "source": [
    "cr = classification_report(test_label, y_hat)\n",
    "cm = confusion_matrix(test_label, y_hat)\n",
    "print(cr)\n",
    "print(cm)"
   ]
  },
  {
   "cell_type": "code",
   "execution_count": null,
   "metadata": {},
   "outputs": [],
   "source": []
  }
 ],
 "metadata": {
  "kernelspec": {
   "display_name": "Python 3",
   "language": "python",
   "name": "python3"
  },
  "language_info": {
   "codemirror_mode": {
    "name": "ipython",
    "version": 3
   },
   "file_extension": ".py",
   "mimetype": "text/x-python",
   "name": "python",
   "nbconvert_exporter": "python",
   "pygments_lexer": "ipython3",
   "version": "3.6.8"
  }
 },
 "nbformat": 4,
 "nbformat_minor": 2
}
