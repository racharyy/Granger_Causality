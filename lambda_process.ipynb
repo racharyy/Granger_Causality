{
 "cells": [
  {
   "cell_type": "code",
   "execution_count": 32,
   "metadata": {},
   "outputs": [],
   "source": [
    "from io import open\n",
    "import pickle\n",
    "import sys\n",
    "sys.path.insert(0,'./zipped_files_from_www')\n",
    "sys.path.insert(0,'./Boyu')\n",
    "from posterior import *\n",
    "from sklearn.metrics import average_precision_score,precision_recall_fscore_support,confusion_matrix, roc_curve, auc, classification_report, average_precision_score, accuracy_score\n",
    "from sklearn.linear_model import LogisticRegression\n",
    "from helper import *\n",
    "#from random_slice import *\n",
    "cats = [\"Business & Industrial\",\"Home & Garden\",\"Travel\",\"Arts & Entertainment\",\"Sports\",\"Food & Drink\",\"Pets & Animals\",\"Health\",\"Shopping\",\"Finance\",\"Adult\",\"Beauty & Fitness\",\"News\",\"Books & Literature\",\"Online Communities\",\"Law & Government\",\"Sensitive Subjects\",\"Science\",\"Hobbies & Leisure\",\"Games\",\"Jobs & Education\",\"Autos & Vehicles\",\"Computers & Electronics\",\"People & Society\",\"Reference\",\"Internet & Telecom\",\"Real Estate\"]"
   ]
  },
  {
   "cell_type": "code",
   "execution_count": 30,
   "metadata": {},
   "outputs": [
    {
     "data": {
      "image/png": "[encoded data removed]",
      "text/plain": [
       "<Figure size 432x288 with 1 Axes>"
      ]
     },
     "metadata": {
      "needs_background": "light"
     },
     "output_type": "display_data"
    }
   ],
   "source": [
    "with open('Boyu/lambda_vectors_with_user_ID.pkl', 'rb') as f:\n",
    "\t(low_list, notlow_list) = pickle.load(f)\n",
    "with open('Boyu/lambda_vectors_with_user_ID_normed.pkl', 'rb') as f:\n",
    "\t(low_list_norm, notlow_list_norm) = pickle.load(f)\n",
    "plot_features(low_list, notlow_list)\n",
    "#plot_features(low_list_norm, notlow_list_norm)\n",
    "#plt.show()"
   ]
  },
  {
   "cell_type": "code",
   "execution_count": 31,
   "metadata": {},
   "outputs": [],
   "source": [
    "train_lambda, train_label, test_lambda, test_label = random_split(low_list,notlow_list)"
   ]
  },
  {
   "cell_type": "code",
   "execution_count": 7,
   "metadata": {},
   "outputs": [
    {
     "name": "stdout",
     "output_type": "stream",
     "text": [
      "(27, 27)\n",
      "True\n",
      "==================\n",
      "True\n",
      "(27,)\n",
      "(27, 27)\n",
      "Shape: similarity matrix (27, 27)\n",
      "Shape: covariance matrix (27, 27)\n",
      "True\n"
     ]
    }
   ],
   "source": [
    "def is_pos_def(x):\n",
    "    return np.all(np.linalg.eigvals(x) > 0)\n",
    "\n",
    "\n",
    "simMatrix = np.load('zipped_files_from_www/sim_mat.npy')\n",
    "\n",
    "print(simMatrix.shape)\n",
    "print(is_pos_def(simMatrix))\n",
    "print('==================')\n",
    "simMatrix2 = np.loadtxt(\"zipped_files_from_www/similarity_matrix.csv\", dtype='float32', delimiter=',')\n",
    "print(is_pos_def(simMatrix2))\n",
    "cov_W = simMatrix2\n",
    "cov_W_inv = inv(cov_W)\n",
    "\n",
    "# cov_W = (1- simMatrix) + np.identity(len(cats))\n",
    "mu_W = np.zeros(len(cats))\n",
    "print(mu_W.shape)\n",
    "print(cov_W.shape)\n",
    "print('Shape: similarity matrix',simMatrix.shape)\n",
    "print('Shape: covariance matrix',cov_W.shape)\n",
    "print(is_pos_def(cov_W))\n",
    "#print(cov_W)\n",
    "# cov_W = np.eye(27)"
   ]
  },
  {
   "cell_type": "code",
   "execution_count": 22,
   "metadata": {},
   "outputs": [
    {
     "data": {
      "image/png": "[encoded data removed]",
      "text/plain": [
       "<Figure size 432x288 with 1 Axes>"
      ]
     },
     "metadata": {
      "needs_background": "light"
     },
     "output_type": "display_data"
    }
   ],
   "source": [
    "bmodel = Bayes_model(train_lambda,train_label ,cov_W,mu_W)\n",
    "samples_w, samples_sigma = bmodel.metropolis_hastings()"
   ]
  },
  {
   "cell_type": "code",
   "execution_count": 23,
   "metadata": {},
   "outputs": [
    {
     "name": "stdout",
     "output_type": "stream",
     "text": [
      "[2.44683106e-02 8.01018406e-02 4.05690851e-01 3.43661963e-01\n",
      " 1.62828504e-01 2.25671724e-01 3.44220453e-01 1.02552563e-01\n",
      " 2.90066975e-02 2.55516250e-01 4.06280479e-01 2.48503737e-01\n",
      " 2.39548775e-01 3.02263611e-02 2.42717088e-01 3.92715632e-02\n",
      " 2.42367791e-10 2.88189318e-01 1.82645660e-01 2.99066113e-01\n",
      " 3.19049008e-01 1.79227294e-01 3.20345752e-01 3.00926775e-01\n",
      " 2.80372878e-02 3.40422355e-01 4.04483231e-01 1.75810797e-07\n",
      " 2.80078630e-01 7.66552578e-01 1.45140932e-01]\n",
      "===================\n",
      "predicted: 1 \t\t true: 1\n",
      "predicted: 1 \t\t true: 1\n",
      "predicted: 1 \t\t true: 1\n",
      "predicted: 1 \t\t true: 1\n",
      "predicted: 1 \t\t true: 1\n",
      "predicted: 1 \t\t true: 1\n",
      "predicted: 1 \t\t true: 1\n",
      "predicted: 1 \t\t true: 1\n",
      "predicted: 1 \t\t true: 1\n",
      "predicted: 1 \t\t true: 1\n",
      "predicted: 1 \t\t true: 1\n",
      "predicted: 1 \t\t true: 1\n",
      "predicted: 1 \t\t true: 1\n",
      "predicted: 1 \t\t true: 1\n",
      "predicted: 1 \t\t true: 1\n",
      "predicted: 1 \t\t true: 1\n",
      "predicted: 1 \t\t true: 1\n",
      "predicted: 1 \t\t true: 1\n",
      "predicted: 1 \t\t true: 0\n",
      "predicted: 1 \t\t true: 0\n",
      "predicted: 1 \t\t true: 0\n",
      "predicted: 1 \t\t true: 0\n",
      "predicted: 1 \t\t true: 0\n",
      "predicted: 1 \t\t true: 0\n",
      "predicted: 1 \t\t true: 0\n",
      "predicted: 1 \t\t true: 0\n",
      "predicted: 1 \t\t true: 0\n",
      "predicted: 1 \t\t true: 0\n",
      "predicted: 1 \t\t true: 0\n",
      "predicted: 0 \t\t true: 0\n",
      "predicted: 1 \t\t true: 0\n",
      "              precision    recall  f1-score   support\n",
      "\n",
      "           0       1.00      0.08      0.14        13\n",
      "           1       0.60      1.00      0.75        18\n",
      "\n",
      "   micro avg       0.61      0.61      0.61        31\n",
      "   macro avg       0.80      0.54      0.45        31\n",
      "weighted avg       0.77      0.61      0.50        31\n",
      "\n",
      "[[ 1 12]\n",
      " [ 0 18]]\n",
      "{'precision': array([1. , 0.6]), 'recall': array([0.08, 1.  ]), 'f1-score': array([0.14, 0.75]), 'support': array([13, 18])}\n"
     ]
    }
   ],
   "source": [
    "def print_trace():\n",
    "    precisions = []\n",
    "    recalls = []\n",
    "    f1s = []\n",
    "\n",
    "    total_miss = []\n",
    "    class1_precisions = []\n",
    "    class0_precisions = []\n",
    "\n",
    "    class1_f1s = []\n",
    "    class0_f1s = []\n",
    "\n",
    "    class1_recalls = []\n",
    "    class0_recalls = []\n",
    "\n",
    "    class1_miss = []\n",
    "    class0_miss = []\n",
    "\n",
    "    #print(sum(test_lambda,axis=1))\n",
    "\n",
    "    w = np.mean(samples_w, axis=0)\n",
    "    sig = np.mean(samples_sigma)\n",
    "    p = sigmoid(np.dot(test_lambda, w) + np.random.normal())\n",
    "    # y_hat = [np.random.binomial(1, i) for i in p]\n",
    "    print(p)\n",
    "    y_hat = []\n",
    "    for i in p:\n",
    "        if i <= 0.5:\n",
    "            y_hat.append(1)\n",
    "        else:\n",
    "            y_hat.append(0)\n",
    "    print('===================')\n",
    "    for i in range(len(y_hat)):\n",
    "        print('predicted:', y_hat[i], '\\t\\t true:',test_label[i])\n",
    "\n",
    "    # print y_hat\n",
    "    cr = classification_report(test_label, y_hat)\n",
    "    cm = confusion_matrix(test_label, y_hat)\n",
    "    print(cr)\n",
    "    print(cm)\n",
    "    num_class0_miss = cm[0][1] \n",
    "    num_class1_miss = cm[1][0]\n",
    "    l= cr.split('avg / total')[-1].strip().split()\n",
    "    #print(l)\n",
    "    #avg_prec, avg_recal,avg_f1,_ = cr.split('avg / total')[-1].strip().split()\n",
    "\n",
    "    clf_rep = precision_recall_fscore_support(test_label, y_hat)\n",
    "    out_dict = {\n",
    "        \"precision\" :clf_rep[0].round(2)\n",
    "        ,\"recall\" : clf_rep[1].round(2)\n",
    "        ,\"f1-score\" : clf_rep[2].round(2)\n",
    "        ,\"support\" : clf_rep[3]\n",
    "    }\n",
    "    print(out_dict)\n",
    "    class0_recalls.append(out_dict['recall'][0])\n",
    "    class0_f1s.append(out_dict['f1-score'][0])\n",
    "    class0_precisions.append(out_dict['precision'][0])\n",
    "    class0_miss.append(num_class0_miss)\n",
    "\n",
    "    class1_recalls.append(out_dict['recall'][1])\n",
    "    class1_f1s.append(out_dict['f1-score'][1])\n",
    "    class1_precisions.append(out_dict['precision'][1])\n",
    "    class1_miss.append(num_class1_miss)\n",
    "    total_miss.append(num_class0_miss+num_class1_miss)\n",
    "\n",
    "    # precisions.append(float(avg_prec))\n",
    "    # recalls.append(float(avg_recal))\n",
    "    # f1s.append(float(avg_f1))"
   ]
  },
  {
   "cell_type": "code",
   "execution_count": 10,
   "metadata": {},
   "outputs": [],
   "source": [
    "clf = LogisticRegression(random_state=0, solver='lbfgs').fit(train_lambda,train_label)"
   ]
  },
  {
   "cell_type": "code",
   "execution_count": 11,
   "metadata": {},
   "outputs": [
    {
     "data": {
      "text/plain": [
       "0.6885245901639344"
      ]
     },
     "execution_count": 11,
     "metadata": {},
     "output_type": "execute_result"
    }
   ],
   "source": [
    "clf.score(train_lambda,train_label)"
   ]
  },
  {
   "cell_type": "code",
   "execution_count": 12,
   "metadata": {},
   "outputs": [],
   "source": [
    "y_hat=clf.predict(test_lambda)"
   ]
  },
  {
   "cell_type": "code",
   "execution_count": 13,
   "metadata": {},
   "outputs": [
    {
     "name": "stdout",
     "output_type": "stream",
     "text": [
      "              precision    recall  f1-score   support\n",
      "\n",
      "           0       0.29      0.15      0.20        13\n",
      "           1       0.54      0.72      0.62        18\n",
      "\n",
      "   micro avg       0.48      0.48      0.48        31\n",
      "   macro avg       0.41      0.44      0.41        31\n",
      "weighted avg       0.43      0.48      0.44        31\n",
      "\n",
      "[[ 2 11]\n",
      " [ 5 13]]\n"
     ]
    }
   ],
   "source": [
    "cr = classification_report(test_label, y_hat)\n",
    "cm = confusion_matrix(test_label, y_hat)\n",
    "print(cr)\n",
    "print(cm)"
   ]
  },
  {
   "cell_type": "code",
   "execution_count": null,
   "metadata": {},
   "outputs": [],
   "source": []
  }
 ],
 "metadata": {
  "kernelspec": {
   "display_name": "Python 3",
   "language": "python",
   "name": "python3"
  },
  "language_info": {
   "codemirror_mode": {
    "name": "ipython",
    "version": 3
   },
   "file_extension": ".py",
   "mimetype": "text/x-python",
   "name": "python",
   "nbconvert_exporter": "python",
   "pygments_lexer": "ipython3",
   "version": "3.6.8"
  }
 },
 "nbformat": 4,
 "nbformat_minor": 2
}
