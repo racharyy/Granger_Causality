{
 "cells": [
  {
   "cell_type": "code",
   "execution_count": 1,
   "metadata": {},
   "outputs": [],
   "source": [
    "import pickle\n",
    "from io import open\n"
   ]
  },
  {
   "cell_type": "markdown",
   "metadata": {},
   "source": [
    "# old data"
   ]
  },
  {
   "cell_type": "code",
   "execution_count": 8,
   "metadata": {},
   "outputs": [
    {
     "name": "stdout",
     "output_type": "stream",
     "text": [
      "23 63\n"
     ]
    }
   ],
   "source": [
    "with open('/Users/mac/Desktop/SNAP Lab/PSI_paper/Granger_Causality/Boyu/compound_vectors_psi.pkl', 'rb') as f:\n",
    "    (psi, npsi) = pickle.load(f)\n",
    "    \n",
    "print(len(psi), len(npsi))"
   ]
  },
  {
   "cell_type": "code",
   "execution_count": 9,
   "metadata": {},
   "outputs": [
    {
     "name": "stdout",
     "output_type": "stream",
     "text": [
      "49 43\n"
     ]
    }
   ],
   "source": [
    "with open('/Users/mac/Desktop/SNAP Lab/PSI_paper/Granger_Causality/Boyu/compound_vectors_self_esteem.pkl', 'rb') as f:\n",
    "    (ls, nls) = pickle.load(f)\n",
    "    \n",
    "print(len(ls), len(nls))"
   ]
  },
  {
   "cell_type": "code",
   "execution_count": 10,
   "metadata": {},
   "outputs": [
    {
     "name": "stdout",
     "output_type": "stream",
     "text": [
      "49 43\n"
     ]
    }
   ],
   "source": [
    "psi_data = dict()\n",
    "npsi_data = dict()\n",
    "ls_user = set([user[0] for user in ls])\n",
    "nls_user = set([user[0] for user in nls])\n",
    "print(len(ls_user), len(nls_user))"
   ]
  },
  {
   "cell_type": "code",
   "execution_count": 11,
   "metadata": {},
   "outputs": [
    {
     "name": "stdout",
     "output_type": "stream",
     "text": [
      "23 63\n"
     ]
    }
   ],
   "source": [
    "for user in psi:\n",
    "    category_vec = user[-1][:27]\n",
    "    lambda_vec = user[-1][27:]\n",
    "    se = 0\n",
    "    \n",
    "    if user[0] in ls_user:\n",
    "        se = 1\n",
    "        \n",
    "    psi_data.update({user[0] : [category_vec, lambda_vec, se]})\n",
    "    \n",
    "for user in npsi:\n",
    "    category_vec = user[-1][:27]\n",
    "    lambda_vec = user[-1][27:]\n",
    "    se = 0\n",
    "    \n",
    "    if user[0] in ls_user:\n",
    "        se = 1\n",
    "        \n",
    "    npsi_data.update({user[0] : [category_vec, lambda_vec, se]})\n",
    "    \n",
    "print(len(psi_user), len(npsi_))"
   ]
  },
  {
   "cell_type": "code",
   "execution_count": null,
   "metadata": {},
   "outputs": [],
   "source": []
  }
 ],
 "metadata": {
  "kernelspec": {
   "display_name": "Python 3",
   "language": "python",
   "name": "python3"
  },
  "language_info": {
   "codemirror_mode": {
    "name": "ipython",
    "version": 3
   },
   "file_extension": ".py",
   "mimetype": "text/x-python",
   "name": "python",
   "nbconvert_exporter": "python",
   "pygments_lexer": "ipython3",
   "version": "3.7.6"
  }
 },
 "nbformat": 4,
 "nbformat_minor": 4
}
