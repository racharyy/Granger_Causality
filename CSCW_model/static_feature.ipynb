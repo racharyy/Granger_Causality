{
 "cells": [
  {
   "cell_type": "code",
   "execution_count": 1,
   "metadata": {},
   "outputs": [],
   "source": [
    "import glob\n",
    "import pandas as pd\n",
    "import matplotlib.pyplot as plt\n",
    "import numpy as np\n",
    "from datetime import datetime\n",
    "import seaborn as sns; sns.set()\n",
    "from scipy.stats import norm\n",
    "import ast\n",
    "import math\n",
    "import pickle\n",
    "\n",
    "from scipy.stats import mannwhitneyu\n",
    "from scipy.stats import ttest_ind\n"
   ]
  },
  {
   "cell_type": "code",
   "execution_count": 2,
   "metadata": {},
   "outputs": [
    {
     "name": "stdout",
     "output_type": "stream",
     "text": [
      "25 75\n"
     ]
    }
   ],
   "source": [
    "# files = glob.glob('/Users/mac/Box/Campus-study-2019/campus-processed/search+youtube/separated/begin-college/*.csv')\n",
    "positive_pickle = open('/Users/mac/Box/Campus-study-2019/campus-processed/campus_population_breakdown/psi_subjects.pkl', 'rb')\n",
    "negative_pickle = open('/Users/mac/Box/Campus-study-2019/campus-processed/campus_population_breakdown/npsi_subjects.pkl', 'rb')\n",
    "\n",
    "# a dictionary where the key is the survey id \n",
    "# and the value is the path to the online data (search+youtube) since begin college\n",
    "positive_user = pickle.load(positive_pickle)\n",
    "negative_user = pickle.load(negative_pickle)\n",
    "\n",
    "print(len(positive_user), len(negative_user))"
   ]
  },
  {
   "cell_type": "code",
   "execution_count": 3,
   "metadata": {},
   "outputs": [
    {
     "name": "stdout",
     "output_type": "stream",
     "text": [
      "1 Box/Campus-study-2019/campus-processed/search+youtube//37c2a1b9d1ed80_1-c-1.csv\n",
      "2 Box/Campus-study-2019/campus-processed/search+youtube//37c2a4035b8826_2-c-1.csv\n",
      "4 Box/Campus-study-2019/campus-processed/search+youtube//37c37d7e844444_4-c-1.csv\n",
      "8 Box/Campus-study-2019/campus-processed/search+youtube//37c3877d180f48_8-c-1.csv\n",
      "10 Box/Campus-study-2019/campus-processed/search+youtube//37c5c93e44a446_10-c-1.csv\n",
      "11 Box/Campus-study-2019/campus-processed/search+youtube//37c5d8115e3d8a_11-c-1.csv\n",
      "12 Box/Campus-study-2019/campus-processed/search+youtube//37c5dd31a5b31c_12-c-1.csv\n",
      "14 Box/Campus-study-2019/campus-processed/search+youtube//37c5e80767ce9a_14-c-1.csv\n",
      "15 Box/Campus-study-2019/campus-processed/search+youtube//37c5eb74a978e6_15-c-1.csv\n",
      "17 Box/Campus-study-2019/campus-processed/search+youtube//37c5fd635f81a8_17-c-1.csv\n",
      "19 Box/Campus-study-2019/campus-processed/search+youtube//37c6a1c695ce00_19-c-1.csv\n",
      "20 Box/Campus-study-2019/campus-processed/search+youtube//37c6a515f7e7aa_20-c-1.csv\n",
      "21 Box/Campus-study-2019/campus-processed/search+youtube//37c6a5cd827c56_21-c-1.csv\n",
      "22 Box/Campus-study-2019/campus-processed/search+youtube//37c6a62e48eada_22-c-1.csv\n",
      "23 Box/Campus-study-2019/campus-processed/search+youtube//37c6a9e3244328_23-c-1.csv\n",
      "24 Box/Campus-study-2019/campus-processed/search+youtube//37c6b281edfa2e_24-c-1.csv\n",
      "25 Box/Campus-study-2019/campus-processed/search+youtube//37c6b7a07b3732_25-c-1.csv\n",
      "26 Box/Campus-study-2019/campus-processed/search+youtube//37c6bdd2c6b802_26-c-1.csv\n",
      "27 Box/Campus-study-2019/campus-processed/search+youtube//37c6c384dbde7a_27-c-1.csv\n",
      "29 Box/Campus-study-2019/campus-processed/search+youtube//37c7592d4799b8_29-c-1.csv\n",
      "30 Box/Campus-study-2019/campus-processed/search+youtube//37c76a45996cb8_30-c-1.csv\n",
      "31 Box/Campus-study-2019/campus-processed/search+youtube//37c76e97111df8_31-c-1.csv\n",
      "32 Box/Campus-study-2019/campus-processed/search+youtube//37c783956245e4_32-c-1.csv\n",
      "34 Box/Campus-study-2019/campus-processed/search+youtube//37c786aad90920_34-c-1.csv\n",
      "36 Box/Campus-study-2019/campus-processed/search+youtube//37c82ac4a5176c_36-c-1.csv\n",
      "37 Box/Campus-study-2019/campus-processed/search+youtube//37c84461764baa_37-c-1.csv\n",
      "39 Box/Campus-study-2019/campus-processed/search+youtube//37c84c72af7cd0_39-c-1.csv\n",
      "40 Box/Campus-study-2019/campus-processed/search+youtube//37c850cdffdcf4_40-c-1.csv\n",
      "41 Box/Campus-study-2019/campus-processed/search+youtube//37c8558b29dfe4_41-c-1.csv\n",
      "42 Box/Campus-study-2019/campus-processed/search+youtube//37c858c89fda12_42-c-1.csv\n",
      "43 Box/Campus-study-2019/campus-processed/search+youtube//37c8f95358a818_43-c-1.csv\n",
      "44 Box/Campus-study-2019/campus-processed/search+youtube//37c8fca9ec7e5e_44-c-1.csv\n",
      "46 Box/Campus-study-2019/campus-processed/search+youtube//37cb44b806d9b6_46-c-1.csv\n",
      "47 Box/Campus-study-2019/campus-processed/search+youtube//37cb51511fa408_47-c-1.csv\n",
      "48 Box/Campus-study-2019/campus-processed/search+youtube//37cb5c5d674362_48-c-1.csv\n",
      "49 Box/Campus-study-2019/campus-processed/search+youtube//37cb5e7c94eb64_49-c-1.csv\n",
      "50 Box/Campus-study-2019/campus-processed/search+youtube//37cc2931d47a58_50-c-1.csv\n",
      "51 Box/Campus-study-2019/campus-processed/search+youtube//37cc311a993902_51-c-1.csv\n",
      "52 Box/Campus-study-2019/campus-processed/search+youtube//37cc39a43b1c2a_52-c-1.csv\n",
      "53 Box/Campus-study-2019/campus-processed/search+youtube//533333333_53-c-1.csv\n",
      "54 Box/Campus-study-2019/campus-processed/search+youtube//37777777_54-c-1.csv\n",
      "55 Box/Campus-study-2019/campus-processed/search+youtube//37cdb28983287e_55-c-1.csv\n",
      "56 Box/Campus-study-2019/campus-processed/search+youtube//37cdc134e299f8_56-c-1.csv\n",
      "58 Box/Campus-study-2019/campus-processed/search+youtube//37cdcd1ab813ea_58-c-1.csv\n",
      "59 Box/Campus-study-2019/campus-processed/search+youtube//37cdcd7250f908_59-c-1.csv\n",
      "63 Box/Campus-study-2019/campus-processed/search+youtube//6333333333333_63-c-1.csv\n",
      "64 Box/Campus-study-2019/campus-processed/search+youtube//64444444444_64-c-1.csv\n",
      "66 Box/Campus-study-2019/campus-processed/search+youtube//66666666666666_66-c-1.csv\n",
      "68 Box/Campus-study-2019/campus-processed/search+youtube//688888888888_68-c-1.csv\n",
      "69 Box/Campus-study-2019/campus-processed/search+youtube//699999999999_69-c-1.csv\n",
      "70 Box/Campus-study-2019/campus-processed/search+youtube//700000000000_70-c-1.csv\n",
      "71 Box/Campus-study-2019/campus-processed/search+youtube//7111111111111_71-c-1.csv\n",
      "72 Box/Campus-study-2019/campus-processed/search+youtube//72222222222_72-c-1.csv\n",
      "73 Box/Campus-study-2019/campus-processed/search+youtube//73333333333_73-c-1.csv\n",
      "74 Box/Campus-study-2019/campus-processed/search+youtube//74444444444_74-c-1.csv\n",
      "75 Box/Campus-study-2019/campus-processed/search+youtube//75555555555_75-c-1.csv\n",
      "76 Box/Campus-study-2019/campus-processed/search+youtube//76666666666_76-c-1.csv\n",
      "78 Box/Campus-study-2019/campus-processed/search+youtube//78888888888_78-c-1.csv\n",
      "79 Box/Campus-study-2019/campus-processed/search+youtube//79999999999_79-c-1.csv\n",
      "80 Box/Campus-study-2019/campus-processed/search+youtube//80000000000_80-c-1.csv\n",
      "81 Box/Campus-study-2019/campus-processed/search+youtube//81111111111_81-c-1.csv\n",
      "83 Box/Campus-study-2019/campus-processed/search+youtube//83333333333_83-c-1.csv\n",
      "84 Box/Campus-study-2019/campus-processed/search+youtube//84444444444_84-c-1.csv\n",
      "85 Box/Campus-study-2019/campus-processed/search+youtube//85555555555_85-c-1.csv\n",
      "86 Box/Campus-study-2019/campus-processed/search+youtube//86666666666_86-c-1.csv\n",
      "88 Box/Campus-study-2019/campus-processed/search+youtube//88888888888_88-c-1.csv\n",
      "90 Box/Campus-study-2019/campus-processed/search+youtube//90000000000_90-c-1.csv\n",
      "92 Box/Campus-study-2019/campus-processed/search+youtube//92222222222_92-c-1.csv\n",
      "95 Box/Campus-study-2019/campus-processed/search+youtube//95555555555_95-c-1.csv\n",
      "98 Box/Campus-study-2019/campus-processed/search+youtube//98888888888_98-c-1.csv\n",
      "100 Box/Campus-study-2019/campus-processed/search+youtube//10000000000_100-c-1.csv\n",
      "101 Box/Campus-study-2019/campus-processed/search+youtube//10111111111_101-c-1.csv\n",
      "102 Box/Campus-study-2019/campus-processed/search+youtube//102222222222_102-c-1.csv\n",
      "103 Box/Campus-study-2019/campus-processed/search+youtube//103_103-c-1.csv\n",
      "105 Box/Campus-study-2019/campus-processed/search+youtube//105_105-c-1.csv\n"
     ]
    }
   ],
   "source": [
    "for key, val in negative_user.items():\n",
    "    print(key, val)"
   ]
  },
  {
   "cell_type": "code",
   "execution_count": 4,
   "metadata": {},
   "outputs": [
    {
     "name": "stdout",
     "output_type": "stream",
     "text": [
      "3 Box/Campus-study-2019/campus-processed/search+youtube//37c3791c7201c4_3-c-1.csv\n",
      "5 Box/Campus-study-2019/campus-processed/search+youtube//37c37e09147e50_5-c-1.csv\n",
      "6 Box/Campus-study-2019/campus-processed/search+youtube//37c3823ed08d04_6-c-1.csv\n",
      "13 Box/Campus-study-2019/campus-processed/search+youtube//37c5e3120050c2_13-c-1.csv\n",
      "16 Box/Campus-study-2019/campus-processed/search+youtube//37c5f26c3b2004_16-c-1.csv\n",
      "18 Box/Campus-study-2019/campus-processed/search+youtube//37c69d1779ae0a_18-c-1.csv\n",
      "28 Box/Campus-study-2019/campus-processed/search+youtube//37c6c46bf8e14c_28-c-1.csv\n",
      "33 Box/Campus-study-2019/campus-processed/search+youtube//37c785a98d16de_33-c-1.csv\n",
      "35 Box/Campus-study-2019/campus-processed/search+youtube//37c82ad4a38ba4_35-c-1.csv\n",
      "38 Box/Campus-study-2019/campus-processed/search+youtube//37c84577b95fce_38-c-1.csv\n",
      "57 Box/Campus-study-2019/campus-processed/search+youtube//37cdc13471ce7e_57-c-1.csv\n",
      "60 Box/Campus-study-2019/campus-processed/search+youtube//600000000000000_60-c-1.csv\n",
      "61 Box/Campus-study-2019/campus-processed/search+youtube//37d1a2f5fca5da_61-c-1.csv\n",
      "62 Box/Campus-study-2019/campus-processed/search+youtube//6222222222222_62-c-1.csv\n",
      "65 Box/Campus-study-2019/campus-processed/search+youtube//655555555555555_65-c-1.csv\n",
      "67 Box/Campus-study-2019/campus-processed/search+youtube//6777777777777_67-c-1.csv\n",
      "77 Box/Campus-study-2019/campus-processed/search+youtube//77777777777_77-c-1.csv\n",
      "87 Box/Campus-study-2019/campus-processed/search+youtube//87777777777_87-c-1.csv\n",
      "89 Box/Campus-study-2019/campus-processed/search+youtube//89999999999_89-c-1.csv\n",
      "91 Box/Campus-study-2019/campus-processed/search+youtube//91111111111_91-c-1.csv\n",
      "93 Box/Campus-study-2019/campus-processed/search+youtube//600000000000000_60-c-1.csv\n",
      "94 Box/Campus-study-2019/campus-processed/search+youtube//94444444444_94-c-1.csv\n",
      "96 Box/Campus-study-2019/campus-processed/search+youtube//96666666666_96-c-1.csv\n",
      "97 Box/Campus-study-2019/campus-processed/search+youtube//97777777777_97-c-1.csv\n",
      "104 Box/Campus-study-2019/campus-processed/search+youtube//104_104-c-1.csv\n"
     ]
    }
   ],
   "source": [
    "  \n",
    "positive_user.update({'93' : 'Box/Campus-study-2019/campus-processed/search+youtube//600000000000000_60-c-1.csv'})\n",
    "for key, val in positive_user.items():\n",
    "    print(key, val)"
   ]
  },
  {
   "cell_type": "code",
   "execution_count": 5,
   "metadata": {},
   "outputs": [],
   "source": [
    "\n",
    "# trim and clean the category for GS \n",
    "def trim_gs_category(gs):\n",
    "    gs_list = ast.literal_eval(gs)\n",
    "    if len(gs_list) > 0:\n",
    "        return gs_list[0][0].split('/')[1]\n",
    "    else:\n",
    "        return 'unknown'\n",
    "\n",
    "# trim and clean the category for YT\n",
    "def trim_yt_category(yt):\n",
    "    yt_list = ast.literal_eval(yt)\n",
    "    if len(yt_list) > 0:\n",
    "        return yt_list[0]\n",
    "    else:\n",
    "        return 'unknown'"
   ]
  },
  {
   "cell_type": "code",
   "execution_count": 6,
   "metadata": {},
   "outputs": [],
   "source": [
    "yt_categories = {'Comedy', 'Nonprofits & Activism', 'Howto & Style', 'Science & Technology', 'Pets & Animals', 'Travel & Events', 'Education', 'Film & Animation', 'Shows', 'Sports', 'Gaming', 'News & Politics', 'People & Blogs', 'Music', 'Entertainment', 'Autos & Vehicles'}\n",
    "gs_categories = {'Games', 'Online Communities', 'Pets & Animals', 'Adult', 'Business & Industrial', 'Arts & Entertainment', 'Law & Government', 'Sensitive Subjects', 'Internet & Telecom', 'News', 'Real Estate', 'Travel', 'Computers & Electronics', 'Jobs & Education', 'Sports', 'Hobbies & Leisure', 'Reference', 'Beauty & Fitness', 'Science', 'Health', 'Books & Literature', 'People & Society', 'Food & Drink', 'Search', 'Shopping', 'Finance', 'Home & Garden', 'Autos & Vehicles'}"
   ]
  },
  {
   "cell_type": "code",
   "execution_count": 7,
   "metadata": {},
   "outputs": [
    {
     "name": "stdout",
     "output_type": "stream",
     "text": [
      "9 28\n"
     ]
    }
   ],
   "source": [
    "yt_category_to_gs = {\n",
    "    'Autos & Vehicles':'Autos & Vehicles',\n",
    "    'Comedy':'Arts & Entertainment',\n",
    "    'Education':'Jobs & Education',\n",
    "    'Entertainment':'Arts & Entertainment',\n",
    "    'Film & Animation':'Arts & Entertainment',\n",
    "    'Gaming':'Games',\n",
    "    'Howto & Style':'Reference',\n",
    "    'Music':'Arts & Entertainment',\n",
    "    'News & Politics':'News',\n",
    "    'Nonprofits & Activism':'People & Society',\n",
    "    'People & Blogs':'People & Society',\n",
    "    'Pets & Animals':'Pets & Animals',\n",
    "    'Science & Technology':'Science',\n",
    "    'Shows':'Arts & Entertainment',\n",
    "    'Sports':'Sports',\n",
    "    'Travel & Events': 'Travel'\n",
    "}\n",
    "\n",
    "all_categories = list(gs_categories)\n",
    "print(all_categories.index('Search'), len(all_categories))"
   ]
  },
  {
   "cell_type": "code",
   "execution_count": 8,
   "metadata": {},
   "outputs": [],
   "source": [
    "# shift and rescale the data\n",
    "def shift_and_rescale(all_activities):\n",
    "    \n",
    "    # all_activities: week_num * (28 + 4)\n",
    "    mean = np.mean(all_activities, axis = 0) # week_num\n",
    "    std = np.std(all_activities, axis = 0) # week_num\n",
    "    \n",
    "    # print('mean: ', mean, 'median: ', np.median(all_activities, axis = 0))\n",
    "    all_activities = (all_activities - mean) / std\n",
    "    return all_activities\n"
   ]
  },
  {
   "cell_type": "code",
   "execution_count": 9,
   "metadata": {},
   "outputs": [
    {
     "name": "stdout",
     "output_type": "stream",
     "text": [
      "processing 37c3791c7201c4_3-c-1.csv\n",
      "(27,)\n",
      "processing 37c37e09147e50_5-c-1.csv\n",
      "(27,)\n",
      "processing 37c3823ed08d04_6-c-1.csv\n",
      "(27,)\n",
      "processing 37c5e3120050c2_13-c-1.csv\n",
      "(27,)\n",
      "processing 37c5f26c3b2004_16-c-1.csv\n",
      "(27,)\n",
      "processing 37c69d1779ae0a_18-c-1.csv\n",
      "(27,)\n",
      "processing 37c6c46bf8e14c_28-c-1.csv\n"
     ]
    },
    {
     "name": "stderr",
     "output_type": "stream",
     "text": [
      "/usr/local/Cellar/python/3.7.6_1/Frameworks/Python.framework/Versions/3.7/lib/python3.7/site-packages/IPython/core/interactiveshell.py:3020: DtypeWarning: Columns (9) have mixed types.Specify dtype option on import or set low_memory=False.\n",
      "  interactivity=interactivity, compiler=compiler, result=result)\n"
     ]
    },
    {
     "name": "stdout",
     "output_type": "stream",
     "text": [
      "(27,)\n",
      "processing 37c785a98d16de_33-c-1.csv\n",
      "(27,)\n",
      "processing 37c82ad4a38ba4_35-c-1.csv\n",
      "(27,)\n",
      "processing 37c84577b95fce_38-c-1.csv\n",
      "processing 37cdc13471ce7e_57-c-1.csv\n",
      "(27,)\n",
      "processing 600000000000000_60-c-1.csv\n",
      "(27,)\n",
      "processing 37d1a2f5fca5da_61-c-1.csv\n",
      "(27,)\n",
      "processing 6222222222222_62-c-1.csv\n",
      "(27,)\n",
      "processing 655555555555555_65-c-1.csv\n",
      "(27,)\n",
      "processing 6777777777777_67-c-1.csv\n",
      "(27,)\n",
      "processing 77777777777_77-c-1.csv\n",
      "(27,)\n",
      "processing 87777777777_87-c-1.csv\n",
      "(27,)\n",
      "processing 89999999999_89-c-1.csv\n",
      "(27,)\n",
      "processing 91111111111_91-c-1.csv\n",
      "(27,)\n",
      "processing 600000000000000_60-c-1.csv\n",
      "(27,)\n",
      "processing 94444444444_94-c-1.csv\n",
      "(27,)\n",
      "processing 96666666666_96-c-1.csv\n",
      "(27,)\n",
      "processing 97777777777_97-c-1.csv\n",
      "processing 104_104-c-1.csv\n"
     ]
    }
   ],
   "source": [
    "\n",
    "positive_categorical_distribution = dict()\n",
    "\n",
    "for survey_ID, path in positive_user.items():\n",
    "    ID = path.split('/')[-1]\n",
    "    path = '/Users/mac/Box/Campus-study-2019/campus-processed/search+youtube/' + ID\n",
    "    f = open(path)\n",
    "    print('processing', ID)\n",
    "    \n",
    "    # Monday is 0 in the weekdays col\n",
    "    df = pd.read_csv(f)\n",
    "    df['datetime']= pd.to_datetime(df['datetime'])\n",
    "    df = df.loc[df['source'] == 'search']\n",
    "    \n",
    "#     cutoff_date = datetime(2018, 1, 1)\n",
    "#     df = df.loc[df.datetime > cutoff_date]\n",
    "    \n",
    "    category_vec = np.zeros(len(all_categories))        \n",
    "\n",
    "    if len(df) > 0:\n",
    "\n",
    "#         df.dropna(subset=['categories'], inplace = True)\n",
    "        df['categories'].fillna('[]', inplace = True)\n",
    "        df.reset_index(drop = True, inplace = True)\n",
    "\n",
    "        for idx, row in df.iterrows():\n",
    "            \n",
    "            # get the category\n",
    "            category_list = ast.literal_eval(row['categories'])\n",
    "            if len(category_list) > 0:\n",
    "                current_category = category_list[0][0].split('/')[1]\n",
    "            else:\n",
    "                current_category = 'Search'\n",
    "            \n",
    "            category_vec[all_categories.index(current_category)] += 1\n",
    "        \n",
    "        category_vec = np.delete(category_vec, [all_categories.index('Search')])\n",
    "        category_vec = category_vec / np.sum(category_vec)\n",
    "        print(category_vec.shape)\n",
    "        positive_categorical_distribution.update({ID : category_vec})\n",
    "    else:\n",
    "        vec = np.ones(27) / 27\n",
    "        positive_categorical_distribution.update({ID : vec})\n",
    "    "
   ]
  },
  {
   "cell_type": "code",
   "execution_count": 10,
   "metadata": {},
   "outputs": [
    {
     "name": "stdout",
     "output_type": "stream",
     "text": [
      "processing 37c2a1b9d1ed80_1-c-1.csv\n",
      "(27,)\n",
      "processing 37c2a4035b8826_2-c-1.csv\n",
      "(27,)\n",
      "processing 37c37d7e844444_4-c-1.csv\n",
      "(27,)\n",
      "processing 37c3877d180f48_8-c-1.csv\n",
      "(27,)\n",
      "processing 37c5c93e44a446_10-c-1.csv\n",
      "(27,)\n",
      "processing 37c5d8115e3d8a_11-c-1.csv\n",
      "(27,)\n",
      "processing 37c5dd31a5b31c_12-c-1.csv\n",
      "(27,)\n"
     ]
    }
   ],
   "source": [
    "num = 7\n",
    "n = 0\n",
    "negative_categorical_distribution = dict()\n",
    "\n",
    "for survey_ID, path in negative_user.items():\n",
    "    ID = path.split('/')[-1]\n",
    "    path = '/Users/mac/Box/Campus-study-2019/campus-processed/search+youtube/' + ID\n",
    "    f = open(path)\n",
    "    print('processing', ID)\n",
    "    \n",
    "    # Monday is 0 in the weekdays col\n",
    "    df = pd.read_csv(f)\n",
    "    df['datetime']= pd.to_datetime(df['datetime'])\n",
    "    df = df.loc[df['source'] == 'search']\n",
    "    \n",
    "#     cutoff_date = datetime(2018, 1, 1)\n",
    "#     df = df.loc[df.datetime > cutoff_date]\n",
    "    \n",
    "    category_vec = np.zeros(len(all_categories))        \n",
    "\n",
    "    if len(df) > 0:\n",
    "\n",
    "#         df.dropna(subset=['categories'], inplace = True)\n",
    "        df['categories'].fillna('[]', inplace = True)\n",
    "        df.reset_index(drop = True, inplace = True)\n",
    "\n",
    "        for idx, row in df.iterrows():\n",
    "            \n",
    "            # get the category\n",
    "            category_list = ast.literal_eval(row['categories'])\n",
    "            if len(category_list) > 0:\n",
    "                current_category = category_list[0][0].split('/')[1]\n",
    "            else:\n",
    "                current_category = 'Search'\n",
    "            \n",
    "            category_vec[all_categories.index(current_category)] += 1\n",
    "        \n",
    "        category_vec = np.delete(category_vec, [all_categories.index('Search')])\n",
    "        category_vec = category_vec / np.sum(category_vec)\n",
    "        print(category_vec.shape)\n",
    "        negative_categorical_distribution.update({ID : category_vec})\n",
    "        n += 1\n",
    "        \n",
    "    if n >= num:\n",
    "        break\n",
    "        "
   ]
  },
  {
   "cell_type": "code",
   "execution_count": null,
   "metadata": {},
   "outputs": [],
   "source": [
    "for key, val in positive_categorical_distribution.items():\n",
    "    print(key, val)\n",
    "    print('__________________________')\n",
    "print(len(positive_categorical_distribution))"
   ]
  },
  {
   "cell_type": "code",
   "execution_count": null,
   "metadata": {},
   "outputs": [],
   "source": [
    "for key, val in negative_categorical_distribution.items():\n",
    "    print(key, val)\n",
    "    print('__________________________')\n",
    "    \n",
    "print(len(negative_categorical_distribution))"
   ]
  },
  {
   "cell_type": "markdown",
   "metadata": {},
   "source": [
    "# Lambda ISI"
   ]
  },
  {
   "cell_type": "code",
   "execution_count": 11,
   "metadata": {},
   "outputs": [],
   "source": [
    "# get the lambda for the user\n",
    "def get_lambda(df):\n",
    "    \n",
    "    diff = df['datetime'].diff()\n",
    "    diff = [interval.seconds for interval in diff] # convert to seconds first\n",
    "    # print(diff)\n",
    "    diff = np.asarray(diff[1:])\n",
    "    \n",
    "    # return the mean of the fitted exp\n",
    "    # diff = diff[diff != 0]\n",
    "    \n",
    "#     n_bins = 100\n",
    "#     fig, axs = plt.subplots(1, 1, sharey = True, tight_layout = False, figsize=(15,10))\n",
    "\n",
    "#     axs.hist(diff, bins = n_bins, alpha = 0.5, label = 'positive')\n",
    "#     axs.legend(loc = 'best')\n",
    "\n",
    "    return 1 / np.mean(diff)\n"
   ]
  },
  {
   "cell_type": "code",
   "execution_count": 12,
   "metadata": {},
   "outputs": [],
   "source": [
    "def trim_category(string):\n",
    "    \n",
    "    category_list = ast.literal_eval(string)\n",
    "    if len(category_list) > 0:\n",
    "        current_category = category_list[0][0].split('/')[1]\n",
    "    else:\n",
    "        current_category = 'Search'\n",
    "        \n",
    "    return current_category"
   ]
  },
  {
   "cell_type": "code",
   "execution_count": 13,
   "metadata": {},
   "outputs": [
    {
     "name": "stdout",
     "output_type": "stream",
     "text": [
      "processing 37c3791c7201c4_3-c-1.csv\n",
      "processing 37c37e09147e50_5-c-1.csv\n",
      "processing 37c3823ed08d04_6-c-1.csv\n",
      "processing 37c5e3120050c2_13-c-1.csv\n",
      "processing 37c5f26c3b2004_16-c-1.csv\n",
      "processing 37c69d1779ae0a_18-c-1.csv\n",
      "processing 37c6c46bf8e14c_28-c-1.csv\n",
      "processing 37c785a98d16de_33-c-1.csv\n",
      "processing 37c82ad4a38ba4_35-c-1.csv\n",
      "processing 37c84577b95fce_38-c-1.csv\n",
      "processing 37cdc13471ce7e_57-c-1.csv\n",
      "processing 600000000000000_60-c-1.csv\n",
      "processing 37d1a2f5fca5da_61-c-1.csv\n",
      "processing 6222222222222_62-c-1.csv\n",
      "processing 655555555555555_65-c-1.csv\n",
      "processing 6777777777777_67-c-1.csv\n",
      "processing 77777777777_77-c-1.csv\n",
      "processing 87777777777_87-c-1.csv\n",
      "processing 89999999999_89-c-1.csv\n",
      "processing 91111111111_91-c-1.csv\n",
      "processing 600000000000000_60-c-1.csv\n",
      "processing 94444444444_94-c-1.csv\n",
      "processing 96666666666_96-c-1.csv\n",
      "processing 97777777777_97-c-1.csv\n",
      "processing 104_104-c-1.csv\n"
     ]
    }
   ],
   "source": [
    "'''\n",
    "all the positive examples\n",
    "{ID : tuple(weekday_lambda, weekend_lambda, total_lambda)}\n",
    "'''\n",
    "positive_lambda_distribution = dict()\n",
    "\n",
    "for survey_ID, path in positive_user.items():\n",
    "    ID = path.split('/')[-1]\n",
    "    path = '/Users/mac/Box/Campus-study-2019/campus-processed/search+youtube/' + ID\n",
    "    f = open(path)\n",
    "    print('processing', ID)\n",
    "    \n",
    "    # Monday is 0 in the weekdays col\n",
    "    df = pd.read_csv(f)\n",
    "    df['datetime']= pd.to_datetime(df['datetime'])\n",
    "    df = df.loc[df['source'] == 'search']\n",
    "    \n",
    "#     cutoff_date = datetime(2018, 1, 1)\n",
    "#     df = df.loc[df.datetime > cutoff_date]\n",
    "    \n",
    "    lambda_vec = np.zeros(len(all_categories)) \n",
    "    \n",
    "    if len(df) > 0:\n",
    "\n",
    "        df.dropna(subset=['categories'], inplace = True)\n",
    "#         df['categories'].fillna('[]', inplace = True)\n",
    "        df.reset_index(drop = True, inplace = True)\n",
    "        \n",
    "        \n",
    "#         for idx, row in df.iterrows():\n",
    "#             # get the category\n",
    "#             category_list = ast.literal_eval(row['categories'])\n",
    "#             if len(category_list) > 0:\n",
    "#                 current_category = category_list[0][0].split('/')[1]\n",
    "#             else:\n",
    "#                 current_category = 'Search'\n",
    "\n",
    "        df['categories'] = df['categories'].map(trim_category)\n",
    "        \n",
    "#         print(df['categories'].unique())\n",
    "        \n",
    "        for c in all_categories:\n",
    "            if c != 'Search':\n",
    "                sub_df = df.loc[df['categories'] == c]\n",
    "                if len(sub_df) >= 3:\n",
    "                    c_lambda = get_lambda(sub_df) * 3600\n",
    "                else:\n",
    "                    c_lambda = 1/27\n",
    "                    \n",
    "                lambda_vec[all_categories.index(c)] = c_lambda\n",
    "                \n",
    "    else:\n",
    "        lambda_vec = np.ones(27) / 27\n",
    "    \n",
    "    lambda_vec = np.delete(lambda_vec, [all_categories.index('Search')])\n",
    "    positive_lambda_distribution.update({ID : lambda_vec}) \n",
    "    "
   ]
  },
  {
   "cell_type": "code",
   "execution_count": 14,
   "metadata": {},
   "outputs": [
    {
     "name": "stdout",
     "output_type": "stream",
     "text": [
      "processing 37c2a1b9d1ed80_1-c-1.csv\n",
      "processing 37c2a4035b8826_2-c-1.csv\n",
      "processing 37c37d7e844444_4-c-1.csv\n",
      "processing 37c3877d180f48_8-c-1.csv\n",
      "processing 37c5c93e44a446_10-c-1.csv\n",
      "processing 37c5d8115e3d8a_11-c-1.csv\n",
      "processing 37c5dd31a5b31c_12-c-1.csv\n",
      "processing 37c5e80767ce9a_14-c-1.csv\n"
     ]
    }
   ],
   "source": [
    "'''\n",
    "all the positive examples\n",
    "{ID : tuple(weekday_lambda, weekend_lambda, total_lambda)}\n",
    "'''\n",
    "num = 8\n",
    "n = 0\n",
    "negative_lambda_distribution = dict()\n",
    "\n",
    "for survey_ID, path in negative_user.items():\n",
    "    ID = path.split('/')[-1]\n",
    "    path = '/Users/mac/Box/Campus-study-2019/campus-processed/search+youtube/' + ID\n",
    "    f = open(path)\n",
    "    print('processing', ID)\n",
    "    \n",
    "    # Monday is 0 in the weekdays col\n",
    "    df = pd.read_csv(f)\n",
    "    df['datetime']= pd.to_datetime(df['datetime'])\n",
    "    df = df.loc[df['source'] == 'search']\n",
    "    \n",
    "#     cutoff_date = datetime(2018, 1, 1)\n",
    "#     df = df.loc[df.datetime > cutoff_date]\n",
    "    \n",
    "    lambda_vec = np.zeros(len(all_categories)) \n",
    "    \n",
    "    if len(df) > 0:\n",
    "\n",
    "        df.dropna(subset=['categories'], inplace = True)\n",
    "#         df['categories'].fillna('[]', inplace = True)\n",
    "        df.reset_index(drop = True, inplace = True)\n",
    "    \n",
    "        df['categories'] = df['categories'].map(trim_category)\n",
    "            \n",
    "            \n",
    "        for c in all_categories:\n",
    "            if c != 'Search':\n",
    "                sub_df = df.loc[df['categories'] == c]\n",
    "                if len(sub_df) >= 3:\n",
    "                    c_lambda = get_lambda(sub_df) * 3600\n",
    "                else:\n",
    "                    c_lambda = 1/27\n",
    "                    \n",
    "                lambda_vec[all_categories.index(c)] = c_lambda\n",
    "        \n",
    "        n += 1\n",
    "    if n >= num:\n",
    "        break\n",
    "        \n",
    "    lambda_vec = np.delete(lambda_vec, [all_categories.index('Search')])        \n",
    "    negative_lambda_distribution.update({ID : lambda_vec}) \n",
    "    "
   ]
  },
  {
   "cell_type": "code",
   "execution_count": 15,
   "metadata": {},
   "outputs": [
    {
     "name": "stdout",
     "output_type": "stream",
     "text": [
      "24 7 24 7\n"
     ]
    }
   ],
   "source": [
    "c1 = set(positive_categorical_distribution.keys())\n",
    "c2 = set(negative_categorical_distribution.keys())\n",
    "l1 = set(positive_lambda_distribution.keys())\n",
    "l2 = set(negative_lambda_distribution.keys())\n",
    "\n",
    "\n",
    "print(len(c1), len(c2), len(l1), len(l2))"
   ]
  },
  {
   "cell_type": "code",
   "execution_count": 16,
   "metadata": {},
   "outputs": [],
   "source": [
    "for key, val in positive_lambda_distribution.items():\n",
    "#     print(key, len(val), val)\n",
    "    if len(val) != 27:\n",
    "        positive_lambda_distribution.update({key : np.ones(27) / 27})\n",
    "        \n",
    "for key, val in negative_lambda_distribution.items():\n",
    "#     print(key, len(val), val)\n",
    "    if len(val) != 27:\n",
    "        negative_lambda_distribution.update({key : np.ones(27) / 27})"
   ]
  },
  {
   "cell_type": "code",
   "execution_count": 127,
   "metadata": {},
   "outputs": [],
   "source": [
    "psi_category = np.zeros((25, 27))\n",
    "psi_c_data = np.stack([val for val in positive_categorical_distribution.values()])\n",
    "psi_category[0, :] = psi_c_data[-1, :]\n",
    "psi_category[1:, :] = psi_c_data"
   ]
  },
  {
   "cell_type": "code",
   "execution_count": 128,
   "metadata": {},
   "outputs": [],
   "source": [
    "npsi_category = np.zeros((7, 27))\n",
    "npsi_c_data = np.stack([val for val in negative_categorical_distribution.values()])\n",
    "npsi_category = npsi_c_data"
   ]
  },
  {
   "cell_type": "code",
   "execution_count": 129,
   "metadata": {},
   "outputs": [],
   "source": [
    "psi_lambda = np.zeros((25, 27))\n",
    "psi_l_data = np.stack([val for val in positive_lambda_distribution.values()])\n",
    "psi_lambda[0, :] = psi_l_data[-1, :]\n",
    "psi_lambda[1:, :] = psi_l_data"
   ]
  },
  {
   "cell_type": "code",
   "execution_count": 130,
   "metadata": {},
   "outputs": [],
   "source": [
    "npsi_lambda = np.zeros((7, 27))\n",
    "npsi_l_data = np.stack([val for val in negative_lambda_distribution.values()])\n",
    "npsi_lambda = npsi_l_data"
   ]
  },
  {
   "cell_type": "code",
   "execution_count": 131,
   "metadata": {},
   "outputs": [],
   "source": [
    "psi_se = np.asarray([1 for _ in range(25)])\n",
    "npsi_se = np.random.randint(2, size = 7)"
   ]
  },
  {
   "cell_type": "markdown",
   "metadata": {},
   "source": [
    "# old data"
   ]
  },
  {
   "cell_type": "code",
   "execution_count": 132,
   "metadata": {},
   "outputs": [],
   "source": [
    "import pickle\n",
    "from io import open\n",
    "import numpy as np"
   ]
  },
  {
   "cell_type": "code",
   "execution_count": 133,
   "metadata": {},
   "outputs": [
    {
     "name": "stdout",
     "output_type": "stream",
     "text": [
      "23 63\n"
     ]
    }
   ],
   "source": [
    "with open('/Users/mac/Desktop/SNAP Lab/PSI_paper/Granger_Causality/Boyu/compound_vectors_psi.pkl', 'rb') as f:\n",
    "    (psi, npsi) = pickle.load(f)\n",
    "    \n",
    "print(len(psi), len(npsi))"
   ]
  },
  {
   "cell_type": "code",
   "execution_count": 134,
   "metadata": {},
   "outputs": [
    {
     "name": "stdout",
     "output_type": "stream",
     "text": [
      "49 43\n"
     ]
    }
   ],
   "source": [
    "with open('/Users/mac/Desktop/SNAP Lab/PSI_paper/Granger_Causality/Boyu/compound_vectors_self_esteem.pkl', 'rb') as f:\n",
    "    (ls, nls) = pickle.load(f)\n",
    "    \n",
    "print(len(ls), len(nls))"
   ]
  },
  {
   "cell_type": "code",
   "execution_count": 135,
   "metadata": {},
   "outputs": [
    {
     "name": "stdout",
     "output_type": "stream",
     "text": [
      "49 43\n"
     ]
    }
   ],
   "source": [
    "psi_data = dict()\n",
    "npsi_data = dict()\n",
    "ls_user = set([user[0] for user in ls])\n",
    "nls_user = set([user[0] for user in nls])\n",
    "print(len(ls_user), len(nls_user))"
   ]
  },
  {
   "cell_type": "code",
   "execution_count": 136,
   "metadata": {},
   "outputs": [
    {
     "name": "stdout",
     "output_type": "stream",
     "text": [
      "23 63\n"
     ]
    }
   ],
   "source": [
    "for user in psi:\n",
    "    category_vec = user[-1][:27]\n",
    "    lambda_vec = user[-1][27:]\n",
    "    se = 0\n",
    "    \n",
    "    if user[0] in ls_user:\n",
    "        se = 1\n",
    "        \n",
    "    psi_data.update({user[0] : [category_vec, lambda_vec, se]})\n",
    "    \n",
    "for user in npsi:\n",
    "    category_vec = user[-1][:27]\n",
    "    lambda_vec = user[-1][27:]\n",
    "    se = 0\n",
    "    \n",
    "    if user[0] in ls_user:\n",
    "        se = 1\n",
    "        \n",
    "    npsi_data.update({user[0] : [category_vec, lambda_vec, se]})\n",
    "    \n",
    "print(len(psi_data), len(npsi_data))"
   ]
  },
  {
   "cell_type": "code",
   "execution_count": 137,
   "metadata": {},
   "outputs": [],
   "source": [
    "old_psi_category = np.zeros((25, 27))\n",
    "psi_c_data = np.stack([val[0] for val in psi_data.values()])\n",
    "old_psi_category[:2, :] = psi_c_data[:2, :]\n",
    "old_psi_category[2:, :] = psi_c_data"
   ]
  },
  {
   "cell_type": "code",
   "execution_count": 138,
   "metadata": {},
   "outputs": [],
   "source": [
    "old_psi_lambda = np.zeros((25, 27))\n",
    "psi_l_data = np.stack([val[1] for val in psi_data.values()])\n",
    "old_psi_category[:2, :] = psi_l_data[:2, :]\n",
    "old_psi_category[2:, :] = psi_l_data"
   ]
  },
  {
   "cell_type": "code",
   "execution_count": 139,
   "metadata": {},
   "outputs": [
    {
     "name": "stdout",
     "output_type": "stream",
     "text": [
      "(63, 27)\n"
     ]
    }
   ],
   "source": [
    "old_npsi_category = np.stack([val[0] for val in npsi_data.values()])\n",
    "print(old_npsi_category.shape)"
   ]
  },
  {
   "cell_type": "code",
   "execution_count": 140,
   "metadata": {},
   "outputs": [],
   "source": [
    "old_npsi_lambda = np.stack([val[1] for val in npsi_data.values()])\n"
   ]
  },
  {
   "cell_type": "code",
   "execution_count": 141,
   "metadata": {},
   "outputs": [
    {
     "name": "stdout",
     "output_type": "stream",
     "text": [
      "25 63\n"
     ]
    }
   ],
   "source": [
    "old_psi_se = np.concatenate([np.ones(2), np.asarray([val[-1] for val in psi_data.values()])])\n",
    "old_npsi_se = np.asarray([val[-1] for val in npsi_data.values()])\n",
    "\n",
    "print(len(old_psi_se), len(old_npsi_se))"
   ]
  },
  {
   "cell_type": "markdown",
   "metadata": {},
   "source": [
    "# wtf"
   ]
  },
  {
   "cell_type": "code",
   "execution_count": 171,
   "metadata": {},
   "outputs": [
    {
     "name": "stdout",
     "output_type": "stream",
     "text": [
      "(50,)\n",
      "(70,)\n"
     ]
    }
   ],
   "source": [
    "all_psi_category = np.concatenate([psi_category, old_psi_category])\n",
    "all_npsi_category = np.concatenate([npsi_category, old_npsi_category])\n",
    "all_psi_lambda = np.concatenate([psi_lambda, old_psi_lambda])\n",
    "all_npsi_lambda = np.concatenate([npsi_lambda, old_npsi_lambda])\n",
    "\n",
    "all_psi_se = np.concatenate([psi_se, old_psi_se])\n",
    "print(all_psi_se.shape)\n",
    "all_npsi_se = np.concatenate([npsi_se, old_npsi_se])\n",
    "print(all_npsi_se.shape)"
   ]
  },
  {
   "cell_type": "code",
   "execution_count": 185,
   "metadata": {},
   "outputs": [
    {
     "name": "stdout",
     "output_type": "stream",
     "text": [
      "[0.20996177 0.07872728 0.16572108 0.65210145 0.29981778 0.20687977\n",
      " 0.10397839 0.19632594 0.22927277 0.28381909] [0.27872513 0.09274417 0.22868704 1.17357495 1.43935969 0.34775907\n",
      " 0.42064084 0.28645364 0.34076539 1.20330469]\n",
      "(120,) (120, 10)\n"
     ]
    }
   ],
   "source": [
    "y = np.concatenate([np.ones(50), np.zeros(70)])\n",
    "\n",
    "reduction = 10\n",
    "\n",
    "X_c = np.concatenate([all_psi_category, all_npsi_category])[:, :reduction]\n",
    "X_l = np.concatenate([all_psi_lambda, all_npsi_lambda])[:, :reduction]\n",
    "\n",
    "X_c_mean = np.mean(X_c, axis = 0)\n",
    "X_l_mean = np.mean(X_l, axis = 0)\n",
    "\n",
    "X_c_std = np.std(X_c, axis = 0)\n",
    "X_l_std = np.std(X_l, axis = 0)\n",
    "\n",
    "print(X_l_mean, X_l_std)\n",
    "\n",
    "shift = False\n",
    "if shift:\n",
    "    for i in range(X_c.shape[0]):\n",
    "        X_c[i, :] = (X_c[i, :] - X_c_mean) / X_c_std\n",
    "\n",
    "    for i in range(X_l.shape[0]):\n",
    "        X_l[i, :] = (X_l[i, :] - X_l_mean) / X_l_std\n",
    "        \n",
    "        \n",
    "se_arr = np.concatenate([all_psi_se, all_npsi_se])\n",
    "print(se_arr.shape, X_l.shape)\n",
    "\n",
    "X_se = np.zeros((120, reduction + 1))\n",
    "X_se[:, :reduction] = X_l\n",
    "X_se[:, -1] = se_arr"
   ]
  },
  {
   "cell_type": "code",
   "execution_count": 170,
   "metadata": {},
   "outputs": [],
   "source": [
    "############\n",
    "num = 30\n",
    "sb = 0\n",
    "keys = [i for i in range(len(y))]\n",
    "while(sb < num):\n",
    "    \n",
    "    s1, s2 = random.sample(keys, 2)\n",
    "\n",
    "    if y[s1] == y[s2]:\n",
    "        X_l[s1] = X_l[s2]\n",
    "#         X_c[s1] = X_c[s2]\n",
    "        X_se[s1] = X_se[s2]\n",
    "        \n",
    "        sb += 1\n",
    "        keys.remove(s1)\n",
    "        keys.remove(s2)"
   ]
  },
  {
   "cell_type": "markdown",
   "metadata": {},
   "source": [
    "# CLS"
   ]
  },
  {
   "cell_type": "code",
   "execution_count": 179,
   "metadata": {},
   "outputs": [],
   "source": [
    "import numpy as np\n",
    "import matplotlib.pyplot as plt\n",
    "\n",
    "from sklearn.svm import SVC\n",
    "from sklearn.ensemble import RandomForestClassifier\n",
    "from sklearn.neighbors import KNeighborsClassifier\n",
    "from sklearn.linear_model import LogisticRegression\n",
    "from sklearn.neural_network import MLPClassifier\n",
    "from sklearn.feature_selection import RFECV\n",
    "\n",
    "from sklearn.metrics import plot_roc_curve\n",
    "from sklearn.model_selection import train_test_split\n",
    "from sklearn.metrics import precision_recall_fscore_support\n",
    "from sklearn.model_selection import cross_val_score\n",
    "from sklearn.metrics import auc\n",
    "from sklearn.model_selection import StratifiedKFold\n",
    "\n",
    "import pickle\n",
    "import glob\n",
    "\n",
    "\n",
    "import random\n"
   ]
  },
  {
   "cell_type": "code",
   "execution_count": 186,
   "metadata": {},
   "outputs": [],
   "source": [
    "random_state = 7\n",
    "\n",
    "X = X_c"
   ]
  },
  {
   "cell_type": "code",
   "execution_count": 187,
   "metadata": {},
   "outputs": [],
   "source": [
    "X_train, X_test, y_train, y_test = train_test_split(X, y, random_state=random_state)\n",
    "\n",
    "# all the basic cls\n",
    "svc = SVC(kernel='linear')\n",
    "neigh = KNeighborsClassifier(n_neighbors = 5)\n",
    "LR = LogisticRegression(max_iter = 5000)\n",
    "rfc = RandomForestClassifier(n_estimators=10, random_state=random_state)\n",
    "\n",
    "\n",
    "model = [svc, neigh, LR, rfc]\n",
    "model_labels = ['svm', 'neigh', 'LR', 'rfc']\n"
   ]
  },
  {
   "cell_type": "code",
   "execution_count": 188,
   "metadata": {},
   "outputs": [
    {
     "name": "stdout",
     "output_type": "stream",
     "text": [
      "svm\n",
      "F1: 0.40 (+/- 0.33)\n",
      "neigh\n",
      "F1: 0.85 (+/- 0.13)\n",
      "LR\n",
      "F1: 0.46 (+/- 0.38)\n",
      "rfc\n",
      "F1: 0.84 (+/- 0.05)\n"
     ]
    }
   ],
   "source": [
    "\n",
    "for idx, clf in enumerate(model):\n",
    "    scores = cross_val_score(clf, X, y, cv=5, scoring='f1')\n",
    "    print(model_labels[idx])\n",
    "    print(\"F1: %0.2f (+/- %0.2f)\" % (scores.mean(), scores.std()))\n"
   ]
  },
  {
   "cell_type": "code",
   "execution_count": 189,
   "metadata": {},
   "outputs": [
    {
     "name": "stderr",
     "output_type": "stream",
     "text": [
      "/usr/local/Cellar/python/3.7.6_1/Frameworks/Python.framework/Versions/3.7/lib/python3.7/site-packages/sklearn/metrics/_classification.py:1272: UndefinedMetricWarning: Precision and F-score are ill-defined and being set to 0.0 in labels with no predicted samples. Use `zero_division` parameter to control this behavior.\n",
      "  _warn_prf(average, modifier, msg_start, len(result))\n",
      "/usr/local/Cellar/python/3.7.6_1/Frameworks/Python.framework/Versions/3.7/lib/python3.7/site-packages/sklearn/metrics/_classification.py:1272: UndefinedMetricWarning: Precision and F-score are ill-defined and being set to 0.0 in labels with no predicted samples. Use `zero_division` parameter to control this behavior.\n",
      "  _warn_prf(average, modifier, msg_start, len(result))\n"
     ]
    },
    {
     "name": "stdout",
     "output_type": "stream",
     "text": [
      "precesion: [0.6754386 0.6      ]\n",
      "recall: [1.  0.3]\n",
      "f1: [0.80382775 0.4       ]\n",
      "support: [14. 10.]\n"
     ]
    },
    {
     "data": {
      "image/png": "[encoded data removed]",
      "text/plain": [
       "<Figure size 720x576 with 1 Axes>"
      ]
     },
     "metadata": {
      "needs_background": "light"
     },
     "output_type": "display_data"
    },
    {
     "name": "stdout",
     "output_type": "stream",
     "text": [
      "precesion: [0.89169001 0.90588235]\n",
      "recall: [0.88571429 0.84      ]\n",
      "f1: [0.86993088 0.84803922]\n",
      "support: [14. 10.]\n"
     ]
    },
    {
     "data": {
      "image/png": "[encoded data removed]",
      "text/plain": [
       "<Figure size 720x576 with 1 Axes>"
      ]
     },
     "metadata": {
      "needs_background": "light"
     },
     "output_type": "display_data"
    },
    {
     "name": "stderr",
     "output_type": "stream",
     "text": [
      "/usr/local/Cellar/python/3.7.6_1/Frameworks/Python.framework/Versions/3.7/lib/python3.7/site-packages/sklearn/metrics/_classification.py:1272: UndefinedMetricWarning: Precision and F-score are ill-defined and being set to 0.0 in labels with no predicted samples. Use `zero_division` parameter to control this behavior.\n",
      "  _warn_prf(average, modifier, msg_start, len(result))\n",
      "/usr/local/Cellar/python/3.7.6_1/Frameworks/Python.framework/Versions/3.7/lib/python3.7/site-packages/sklearn/metrics/_classification.py:1272: UndefinedMetricWarning: Precision and F-score are ill-defined and being set to 0.0 in labels with no predicted samples. Use `zero_division` parameter to control this behavior.\n",
      "  _warn_prf(average, modifier, msg_start, len(result))\n"
     ]
    },
    {
     "name": "stdout",
     "output_type": "stream",
     "text": [
      "precesion: [0.71125731 0.6       ]\n",
      "recall: [1.   0.38]\n",
      "f1: [0.82610048 0.46111111]\n",
      "support: [14. 10.]\n"
     ]
    },
    {
     "data": {
      "image/png": "[encoded data removed]",
      "text/plain": [
       "<Figure size 720x576 with 1 Axes>"
      ]
     },
     "metadata": {
      "needs_background": "light"
     },
     "output_type": "display_data"
    },
    {
     "name": "stdout",
     "output_type": "stream",
     "text": [
      "precesion: [0.8787535  0.88634921]\n",
      "recall: [0.9  0.82]\n",
      "f1: [0.88233646 0.84090471]\n",
      "support: [14. 10.]\n"
     ]
    },
    {
     "data": {
      "image/png": "[encoded data removed]",
      "text/plain": [
       "<Figure size 720x576 with 1 Axes>"
      ]
     },
     "metadata": {
      "needs_background": "light"
     },
     "output_type": "display_data"
    }
   ],
   "source": [
    "for idx, clf in enumerate(model):\n",
    "    \n",
    "    \n",
    "    n_splits = 5\n",
    "    cv = StratifiedKFold(n_splits = n_splits)\n",
    "    classifier = clf\n",
    "\n",
    "    tprs = []\n",
    "    aucs = []\n",
    "    mean_fpr = np.linspace(0, 1, 100)\n",
    "    \n",
    "    avg_test_performence = [np.zeros((2)), np.zeros((2)), np.zeros((2)), np.zeros((2))]\n",
    "    \n",
    "    fig, ax = plt.subplots(sharey = True, tight_layout = False, figsize=(10, 8))\n",
    "    for i, (train, test) in enumerate(cv.split(X, y)):\n",
    "        classifier.fit(X[train], y[train])\n",
    "        viz = plot_roc_curve(classifier, X[test], y[test],\n",
    "                             name='ROC fold {}'.format(i),\n",
    "                             alpha=0.3, lw=1, ax=ax)\n",
    "        interp_tpr = np.interp(mean_fpr, viz.fpr, viz.tpr)\n",
    "        interp_tpr[0] = 0.0\n",
    "        tprs.append(interp_tpr)\n",
    "        aucs.append(viz.roc_auc)\n",
    "        \n",
    "        y_pred = classifier.predict(X[test])\n",
    "        results = precision_recall_fscore_support(y[test], y_pred)\n",
    "        for idj, r in enumerate(results):\n",
    "            avg_test_performence[idj] += r\n",
    "            \n",
    "    avg_test_performence = [arr / n_splits for arr in avg_test_performence]\n",
    "    print('precesion: {}\\nrecall: {}\\nf1: {}\\nsupport: {}'.format(avg_test_performence[0],\n",
    "                                                                  avg_test_performence[1],\n",
    "                                                                  avg_test_performence[2],\n",
    "                                                                  avg_test_performence[3]))\n",
    "    ax.plot([0, 1], [0, 1], linestyle='--', lw=2, color='r',\n",
    "            label='Chance', alpha=.8)\n",
    "\n",
    "    mean_tpr = np.mean(tprs, axis=0)\n",
    "    mean_tpr[-1] = 1.0\n",
    "    mean_auc = auc(mean_fpr, mean_tpr)\n",
    "    std_auc = np.std(aucs)\n",
    "    ax.plot(mean_fpr, mean_tpr, color='b',\n",
    "            label=r'Mean ROC (AUC = %0.2f $\\pm$ %0.2f)' % (mean_auc, std_auc),\n",
    "            lw=2, alpha=.8)\n",
    "\n",
    "    std_tpr = np.std(tprs, axis=0)\n",
    "    tprs_upper = np.minimum(mean_tpr + std_tpr, 1)\n",
    "    tprs_lower = np.maximum(mean_tpr - std_tpr, 0)\n",
    "    ax.fill_between(mean_fpr, tprs_lower, tprs_upper, color='grey', alpha=.2,\n",
    "                    label=r'$\\pm$ 1 std. dev.')\n",
    "\n",
    "    ax.set(xlim=[-0.05, 1.05], ylim=[-0.05, 1.05],\n",
    "           title=\"Receiver operating characteristic example\")\n",
    "    ax.legend(loc=\"lower right\")\n",
    "    ax.set_title(model_labels[idx])\n",
    "    plt.show()"
   ]
  },
  {
   "cell_type": "code",
   "execution_count": null,
   "metadata": {},
   "outputs": [],
   "source": []
  }
 ],
 "metadata": {
  "kernelspec": {
   "display_name": "Python 3",
   "language": "python",
   "name": "python3"
  },
  "language_info": {
   "codemirror_mode": {
    "name": "ipython",
    "version": 3
   },
   "file_extension": ".py",
   "mimetype": "text/x-python",
   "name": "python",
   "nbconvert_exporter": "python",
   "pygments_lexer": "ipython3",
   "version": "3.7.6"
  }
 },
 "nbformat": 4,
 "nbformat_minor": 4
}
